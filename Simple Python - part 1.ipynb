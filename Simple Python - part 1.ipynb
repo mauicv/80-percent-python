{
 "cells": [
  {
   "attachments": {
    "simple-python-1.png": {
     "image/png": "[encoded data removed]"
    }
   },
   "cell_type": "markdown",
   "metadata": {},
   "source": [
    "## Simple Python - Part 1 \n",
    "\n",
    "\n",
    "\n",
    "### Simple navigation in the terminal\n",
    "\n",
    "___\n",
    "\n",
    "\n",
    "First lets cover how to set up and maintain python project spaces and virtual environments. If you have terminal open then recall these three commands:\n",
    "\n",
    "1. `ls` Lists all folder and files within your current directory:\n",
    "2. `cd` Changes current directory to new directory given. So by runing `ls` above you see there is a folder called `development` then you can say\n",
    "```sh\n",
    "cd developement\n",
    "```\n",
    "and you'll have moved into the `development` folder. Note `.` and `..` mean currrent directory (directory you're in) and parent directory (directory containing the one your in). Hence `cd .` does nothing and `cd ..` moves you out of the current directory into the parent directory. So if your in `development` you can use `cd ..` to go back\n",
    "3. `mkdir` Makes a new directory.\n",
    "```sh\n",
    "mkdir new_project\n",
    "```\n",
    "\n",
    "\n",
    "So using the above you can navigate and create new directorys.\n",
    "\n",
    "\n",
    "\n",
    "### Virtual Environments\n",
    "\n",
    "___\n",
    "\n",
    "Once you've created a new project directory You'll want a new virtual environment. To create one you just use:\n",
    "\n",
    "```sh\n",
    "python3 -m venv name_of_virtual_environment\n",
    "```\n",
    "\n",
    "Virtual environments contain all the installed packages that you'll use within the project your working on. To tell the terminal to use your virtual environment you'll need to activate it first. To do so use:\n",
    "\n",
    "\n",
    "```sh\n",
    "source venv/bin/activate\n",
    "```\n",
    "\n",
    "Note that later when you come back to continue working on this project it's important to remember to reactivate the virtual environment using the above. If you don't then anytime you run a python script that uses some installed package you'll get an error.\n",
    "\n",
    "finally you can deactivate a virtual environment using \n",
    "\n",
    "```sh\n",
    "deactivate\n",
    "```\n",
    "\n",
    "### Installing Dependencies\n",
    "\n",
    "___\n",
    "\n",
    "\n",
    "To install packages you'll use pip. Make sure you've activated the virtual environment for the project your working on otherwise pip won't install the package within that virtual environment. We're going to use jupyter notebooks which is a package that canbe installed by writing:\n",
    "\n",
    "```sh\n",
    "pip install notebook\n",
    "```\n",
    "\n",
    "Finally to run a notebook write:\n",
    "\n",
    "\n",
    "```sh\n",
    "jupyter notebook\n",
    "```\n",
    "\n",
    "you should end up with the jupyter notebook directory interface in your browser. You can then create a new python jupyter notebook by clicking python3 on the `new` button dropdown:\n",
    "\n",
    "\n",
    "![simple-python-1.png](attachment:simple-python-1.png) \n"
   ]
  },
  {
   "cell_type": "code",
   "execution_count": null,
   "metadata": {},
   "outputs": [],
   "source": []
  }
 ],
 "metadata": {
  "kernelspec": {
   "display_name": "Python 3",
   "language": "python",
   "name": "python3"
  },
  "language_info": {
   "codemirror_mode": {
    "name": "ipython",
    "version": 3
   },
   "file_extension": ".py",
   "mimetype": "text/x-python",
   "name": "python",
   "nbconvert_exporter": "python",
   "pygments_lexer": "ipython3",
   "version": "3.6.9"
  }
 },
 "nbformat": 4,
 "nbformat_minor": 4
}
