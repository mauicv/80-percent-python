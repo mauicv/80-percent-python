{
 "cells": [
  {
   "cell_type": "markdown",
   "metadata": {},
   "source": [
    "## 80% of the Python I Use - Part 2:\n",
    "\n",
    "___\n",
    "\n",
    "\n",
    "So just to reiterate the apporach i'd advise is:\n",
    "\n",
    "- Quickly skim read the material.\n",
    "- Try a problem and don't spend more than 10 mins.\n",
    "- If you can't solve it look back over the material in greater depth and then try the problem again. Don't spend more than 20 mins in the second attempt.\n",
    "- If you can't get it in 20 mins ask for help.\n",
    "\n",
    "the tags are:\n",
    "\n",
    "__NOT-THAT-USEFUL__: This is stuff that I rarely use. Other programmers might use it so it's useful to see if it crops up in any code you might be reading. I tend to think of these as maybe slight oddities that have been included in python for reasons I don't quite understand. I don't advise learning this particualarly but it's useful to know it exists. The reasons I typically don't use these ideas is becuase they make stuff harder to read and often there are other ways that are more cannon __or__ they are super super useful but only in very particular cases that I've found myself comming acorss very rairly.\n",
    "    - examples in this notebook:\n",
    "        1. unix timestamps\n",
    "        2. hashable objects\n",
    "        3. `uft-8` and internet messaging\n",
    "        4. http requests\n",
    "\n",
    "__JUST-GOOGLE__: This is stuff that I use alot and it's typically simple stuff that's syntatically varied. Becuase theres so much varaiation I never consiously commit it to memory becuase it's easier to just remeber that vauge idea and then google it when needed. This is stuff like all the operations you can perform on variables or all the methods defined on strings. Don't try to learn it but get good at knowing how to google for it.\n",
    "    - examples in this notebook:\n",
    "        1. JSON, loads and JSON dumps...\n",
    "        2. type method\n",
    "        3. random\n",
    "\n",
    "__USEFUL__: This is stuff I wasn't super familar with when I started python but now I use all the time. It's the bread and butter of becomming fast and compitent at python. It's not typically the only way to do the thing but it is often the fastest and most readable. It is typically googleable so don't memorize it but it is increadably worth while getting familiar with it beucase of the speed gains.\n",
    "    - examples in this notebook:\n",
    "        1. dictionarys\n",
    "        2. items method on dictionarys\n",
    "        \n",
    "\n",
    "If you learn anything from this notebook learn: __dictionarys__ then the __items__ method! This is the 10X stuff!\n"
   ]
  },
  {
   "cell_type": "markdown",
   "metadata": {},
   "source": [
    "### dictionarys\n",
    "___\n",
    "\n",
    "Dictionary are like lists except instead of using an integer index value to access the value in the list at that index you use a key. keys can be a number of things but typically they're Strings. Here is an example of a list and a dictionary:"
   ]
  },
  {
   "cell_type": "code",
   "execution_count": 83,
   "metadata": {},
   "outputs": [
    {
     "name": "stdout",
     "output_type": "stream",
     "text": [
      "3\n",
      "3\n"
     ]
    }
   ],
   "source": [
    "l = [1,2,3,4,5]\n",
    "\n",
    "d = {\n",
    "    'zeorth': 1,\n",
    "    'first': 2,\n",
    "    'second': 3,\n",
    "    'third': 4,\n",
    "    'fourth': 5\n",
    "}\n",
    "\n",
    "print(l[2]) \n",
    "print(d['second'])"
   ]
  },
  {
   "cell_type": "markdown",
   "metadata": {},
   "source": [
    "you can add values to the dictionary after you created it using `d['fifth'] = 6` and delete them using `del d['fifth']`"
   ]
  },
  {
   "cell_type": "markdown",
   "metadata": {},
   "source": [
    "In the same way you can have lists within lists you can also have dictionaries within dictionaries"
   ]
  },
  {
   "cell_type": "code",
   "execution_count": 1,
   "metadata": {},
   "outputs": [
    {
     "name": "stdout",
     "output_type": "stream",
     "text": [
      "4\n",
      "4\n"
     ]
    }
   ],
   "source": [
    "l = [1,2, [3, 4], 5]\n",
    "d = {\n",
    "    'zeorth': 1,\n",
    "    'first': 2,\n",
    "    'second':  {\n",
    "        'third': 3,\n",
    "        'fourth': 4,\n",
    "    },\n",
    "    'fifth': 5\n",
    "}\n",
    "\n",
    "print(l[2][1])\n",
    "print(d['second']['fourth'])"
   ]
  },
  {
   "cell_type": "markdown",
   "metadata": {},
   "source": [
    "Even wilder you can have dictionarys within lists and list within dictionarys"
   ]
  },
  {
   "cell_type": "code",
   "execution_count": 2,
   "metadata": {},
   "outputs": [
    {
     "name": "stdout",
     "output_type": "stream",
     "text": [
      "hello\n",
      "hello\n"
     ]
    }
   ],
   "source": [
    "l = [{'key_1': 1, 'key_2': ['yo' ,'hello']}, 3, 4, {'key_3': 5}]\n",
    "d = {\n",
    "    'key_1': 1,\n",
    "    'key_2': 2,\n",
    "    'key_3':  [{\n",
    "        'key_4': 3,\n",
    "        'key_5': [1, {\n",
    "            'key_9': 'hello'\n",
    "        }]\n",
    "    },{\n",
    "        'key_6': 3,\n",
    "        'key_7': 4,\n",
    "    }],\n",
    "    'key_8': 5\n",
    "}\n",
    "\n",
    "print(l[0]['key_2'][1])\n",
    "print(d['key_3'][0]['key_5'][1]['key_9'])\n",
    "\n",
    "\n"
   ]
  },
  {
   "cell_type": "markdown",
   "metadata": {},
   "source": [
    "keys can be anything that is __hashable__. So for instance, of the top of my head integers are hashable, strings are hashable, tuples are hashable. \n",
    "\n",
    "Don't worry about what __hashable__ is it is very much (__NOT-THAT-USEFUL__), just know that it's part of some weird mathematics that i've never looked into but everything i've heard about it makes me think its some dark magic. In the interests of why dictionarys are useful there are a number of beinfits. They have very fast lookup times which means accessing an element of a dictionary requires a constant number of operations iresepective of the complexity of the dictionary.\n",
    "\n",
    "But honestly the main benifit for the majority of programmers is readablity. To see why lets assume we have two exchanges. The first returns data using just lists:"
   ]
  },
  {
   "cell_type": "code",
   "execution_count": 3,
   "metadata": {},
   "outputs": [],
   "source": [
    "exchange_1 = [\n",
    "    [\n",
    "        [1591404295, 7883, 7895], [1591404300, 7881, 7890], [1591404305, 7878, 7879], \n",
    "    ],\n",
    "    [\n",
    "        [1591404295, 7881, 7897], [1591404300, 7880, 7887], [1591404305, 7871, 7875]\n",
    "    ]\n",
    "]"
   ]
  },
  {
   "cell_type": "markdown",
   "metadata": {},
   "source": [
    "There are a number of issues from a code readability standpoint with the above.\n",
    "- __If__ you are used to working with unix timestamps you might recognise the fact that `1591404295` looks like a number of seconds since the epoch otherwise it's just a big number.\n",
    "- __If__ you are familiar with the markets you might deduce that the next values in the array are likely bid and ask prices, otherwise, not knowing the bid, ask ordering convetion then it's not clear which is which or even that they are bid and ask values\n",
    "- __Why__ are there two nested lists? what's the difference between `exchange_1[0][0]` and `exchange_1[0][1]`? Perhaps you quiried an api and requested two exchanges, but you'll have to use there documentation in order to understand which list corresponds to which exchange which presumbaly works on a convention they've put in place.\n",
    "\n",
    "_note_ : unix time is (__NOT-THAT-USEFUL__ and __JUST-GOOGLE__) unless you do something that uses it alot...\n",
    "\n",
    "All of this assumes familarity with the data or at least a knowledge of the documentation and a willingness to read the documentation. In contrast you can use a combination of a dictionaries and a lists: \n"
   ]
  },
  {
   "cell_type": "code",
   "execution_count": 4,
   "metadata": {},
   "outputs": [],
   "source": [
    "exchange_2 = {\n",
    "    'USD/BTC': [{\n",
    "        'unix_timestamp': 1591404295,\n",
    "        'bid': 7883,\n",
    "        'ask': 7895,\n",
    "    },\n",
    "    {\n",
    "        'unix_timestamp': 1591404300,\n",
    "        'bid': 7883,\n",
    "        'ask': 7895\n",
    "    },\n",
    "    {\n",
    "        'unix_timestamp': 1591404305,\n",
    "        'bid': 7883,\n",
    "        'ask': 7895\n",
    "    }],\n",
    "    'USD/ETH': [{\n",
    "        'unix_timestamp': 1591404295,\n",
    "        'bid': 7881,\n",
    "        'ask': 7897,\n",
    "    },\n",
    "    {\n",
    "        'unix_timestamp': 1591404300,\n",
    "        'bid': 7880,\n",
    "        'ask': 7887\n",
    "    },\n",
    "    {\n",
    "        'unix_timestamp': 1591404305,\n",
    "        'bid': 7871,\n",
    "        'ask': 7875\n",
    "    }],\n",
    "}"
   ]
  },
  {
   "cell_type": "markdown",
   "metadata": {},
   "source": [
    "So it should be obvious that `exchange_2['USD/ETH'][2]['bid']` corresponds to the first `bid` for the `USD/ETH` exchange. Maybe yout not sure when that bid was placed? Well then you can look it up via: `exchange_2['USD/ETH'][2]['unix_timestamp']`. From a casual observer perspective they can explore and understand the data just by printing it out in the console."
   ]
  },
  {
   "cell_type": "code",
   "execution_count": 5,
   "metadata": {},
   "outputs": [
    {
     "data": {
      "text/plain": [
       "{'unix_timestamp': 1591404305, 'bid': 7871, 'ask': 7875}"
      ]
     },
     "execution_count": 5,
     "metadata": {},
     "output_type": "execute_result"
    }
   ],
   "source": [
    "exchange_2['USD/ETH'][2]"
   ]
  },
  {
   "cell_type": "markdown",
   "metadata": {},
   "source": [
    "If I saw the above i'd think well, clearly theres a set of placed bid and ask prices for a `USD/ETH` currency pair  at a unix_timestamp of `1591404305`. What's a unix_timestam? well... (__JUST-GOOGLE__). The important thing here is that the code is self documenting, so anyone who reads it later on can better understand it and when you come back to it later you'll have these pointers telling you what things are!\n",
    "\n",
    "So readablity is the number one benifit of dictionarys. The speed thing is also actually super useful but only if your in need of optimizing the time taken to do a calculation. In this case you really need to understand how this speed improvment works to utilize it. Typically if you are looking to do something fast then there is probabaly other libaries that do it already. For instance it's probabaly better to sacrifice the readablity by reordering into lists and then create a `numpy` array and then use the functionality that `numpy` exposes."
   ]
  },
  {
   "cell_type": "markdown",
   "metadata": {},
   "source": [
    "### Creating dictionarys:\n",
    "\n",
    "So you can create dictionaries using list-comprehension, for instance:"
   ]
  },
  {
   "cell_type": "code",
   "execution_count": 6,
   "metadata": {},
   "outputs": [
    {
     "data": {
      "text/plain": [
       "{1: 1, 2: 4, 3: 9, 4: 16, 5: 25}"
      ]
     },
     "execution_count": 6,
     "metadata": {},
     "output_type": "execute_result"
    }
   ],
   "source": [
    "nums = [1,2,3,4,5]\n",
    "squared_nums = [num*num for num in nums]\n",
    "dictionary_of_nums = {num: squared_num for num, squared_num in zip(nums, squared_nums)}\n",
    "dictionary_of_nums"
   ]
  },
  {
   "cell_type": "markdown",
   "metadata": {},
   "source": [
    "_note_ : in the above i've used integers as keys. That's possible becuase they're hashable objects.\n",
    "\n",
    "_note_ : zip was covered in part 1 of this set of notebooks.\n",
    "\n",
    "___\n",
    "\n",
    "One of the big places dictionaries come up is from data obtained from external sources, for instance api's. We use the requests library to qeury an api. Requests just send http requests to urls and gets responses from them. If you want to know more look into http requests (__NOT-THAT-USEFUL__ becuase you mostly just use it and it works). requests returns a response object which has a `.text` attribute that contains a string. Note that you can test for the type of a variable by using `type(variable)` (__JUST-GOOGLE__)."
   ]
  },
  {
   "cell_type": "code",
   "execution_count": 7,
   "metadata": {},
   "outputs": [
    {
     "name": "stdout",
     "output_type": "stream",
     "text": [
      "<class 'str'>\n"
     ]
    }
   ],
   "source": [
    "import requests\n",
    "\n",
    "r = requests.get(\"https://api.bitso.com/v3/order_book/?book=btc_usd\")\n",
    "\n",
    "print(type(r.text))\n"
   ]
  },
  {
   "cell_type": "markdown",
   "metadata": {},
   "source": [
    "http requests transfer information as byte arrays. This is becuase internal representations of data differ across programming launaguges but they all agree of what btye arrays are. This means if you want to transfer a memory stucture from javascript to python you have to first transfer it into a stucutre readable in both. btye arrays can be encoded into strings which requests does for you under the hood. You can use a string to __further__ encode the dictionary stucture and this is what JSON is, i.e. a convention that if followed allows one language to represent its obejcts/dictionarys as strings and another to parse them from those strings. If you print out the above string you'll see it looks like a dictionary but its not. \n",
    "\n",
    "all of this is __NOT-THAT-USEFUL__ to understand just know that:\n",
    "\n",
    "`data strucutre elsewhere -> json string elsewhere -> http requests -> json string on your computer -> dictionary on your computer`\n",
    "\n",
    "We use pythons built in json library to convert strings in the correct format to dictionarys:"
   ]
  },
  {
   "cell_type": "code",
   "execution_count": 8,
   "metadata": {},
   "outputs": [
    {
     "name": "stdout",
     "output_type": "stream",
     "text": [
      "<class 'dict'>\n"
     ]
    }
   ],
   "source": [
    "import json\n",
    "\n",
    "data_dict = json.loads(r.text)\n",
    "\n",
    "print(type(data_dict))"
   ]
  },
  {
   "cell_type": "markdown",
   "metadata": {},
   "source": [
    "Note that the json library can go the other way and convert a dictionary to a string:"
   ]
  },
  {
   "cell_type": "code",
   "execution_count": 9,
   "metadata": {},
   "outputs": [
    {
     "name": "stdout",
     "output_type": "stream",
     "text": [
      "{\"a\": 1}\n",
      "<class 'str'>\n"
     ]
    }
   ],
   "source": [
    "dictionary = {\n",
    "    'a': 1\n",
    "}\n",
    "\n",
    "str_repr_of_dict = json.dumps(dictionary)\n",
    "\n",
    "print(str_repr_of_dict)\n",
    "print(type(str_repr_of_dict))"
   ]
  },
  {
   "cell_type": "markdown",
   "metadata": {},
   "source": [
    "now that we have the dictionary we can use list-comprehension to get statistics about the data within the dictionary. I've included this becuase it's the kind of thing I use dictionarys and list-comprehension for all the time! (__USEFUL__)"
   ]
  },
  {
   "cell_type": "code",
   "execution_count": 10,
   "metadata": {},
   "outputs": [
    {
     "name": "stdout",
     "output_type": "stream",
     "text": [
      "8954.117600000001\n"
     ]
    }
   ],
   "source": [
    "bid_prices = [float(bid['price']) for bid in data_dict['payload']['bids']]\n",
    "avg = sum(bid_prices)/len(bid_prices)\n",
    "print(avg)"
   ]
  },
  {
   "cell_type": "markdown",
   "metadata": {},
   "source": [
    "# PROBLEM 1\n",
    "\n",
    "___\n",
    "\n",
    "\n",
    "Using the data from the above api query extract the first 5 bids and asks and convert them into a list of lists in the form:\n",
    "\n",
    "```\n",
    "[[bid_1, ask_1], [bid_2, ask_2], [bid_3, ask_3], [bid_4, ask_4], [bid_5, ask_5]]\n",
    "```\n",
    "\n",
    "the result should looks something like:\n",
    "\n",
    "```\n",
    "[[9659.17, 9666.22],\n",
    " [9657.21, 9667.07],\n",
    " [9653.51, 9669.53],\n",
    " [9648.47, 9673.53],\n",
    " [9560.0, 9769.05]]\n",
    "```\n",
    "\n",
    "note the result will be dependent on when the code is run as it's a live api and i'd advise printing out the dictionary to figure out how to access the correct bits."
   ]
  },
  {
   "cell_type": "code",
   "execution_count": null,
   "metadata": {},
   "outputs": [],
   "source": []
  },
  {
   "cell_type": "markdown",
   "metadata": {},
   "source": [
    "# Problem 2\n",
    "\n",
    "___\n",
    "\n",
    "\n",
    "given the dictionary in the cell bellow create a list in the form:\n",
    "\n",
    "```[[iex_mid_1, bitsu_mid_1], [iex_mid_2, bitsu_mid_2], [iex_mid_3, bitsu_mid_3]]```\n",
    "\n",
    "where `iex_mid_1` is the value: `(data['iex']['asks'][0]['price'] + data['iex']['bids'][0]['price'])/2`\n",
    "\n",
    "the result should be:\n",
    "\n",
    "```\n",
    "[[1002.5, 995.0], [1007.0, 999.5], [1015.0, 1010.0]]\n",
    "```"
   ]
  },
  {
   "cell_type": "code",
   "execution_count": 94,
   "metadata": {},
   "outputs": [],
   "source": [
    "data = {'iex': {'asks': [{'price': 1000, 'sequence': 1},\n",
    "   {'price': 1004, 'sequence': 2},\n",
    "   {'price': 1005, 'sequence': 3}],\n",
    "  'bids': [{'price': 1005, 'sequence': 1},\n",
    "   {'price': 1010, 'sequence': 2},\n",
    "   {'price': 1025, 'sequence': 3}]},\n",
    " 'bitsu': {'asks': [{'price': 990, 'sequence': 1},\n",
    "   {'price': 994, 'sequence': 2},\n",
    "   {'price': 1000, 'sequence': 3}],\n",
    "  'bids': [{'price': 1000, 'sequence': 1},\n",
    "   {'price': 1005, 'sequence': 2},\n",
    "   {'price': 1020, 'sequence': 3}]}}"
   ]
  },
  {
   "cell_type": "code",
   "execution_count": null,
   "metadata": {},
   "outputs": [],
   "source": []
  },
  {
   "cell_type": "markdown",
   "metadata": {},
   "source": [
    "## items method\n",
    "\n",
    "___\n",
    "\n",
    "This is the last major tool I use in python alot. __USEFUL__: It's another method that i've lost count of how much i've used it in production code.\n",
    "\n",
    "What items does is similar in form to `enumerate`. It's good to think of these as the same thing but on different data strucutres. So where enumerate takes a list and returns each element of the list paired with it's index, the items() method takes a dictionary and returns each value in the dictionary paired with it's key:"
   ]
  },
  {
   "cell_type": "code",
   "execution_count": 95,
   "metadata": {},
   "outputs": [
    {
     "name": "stdout",
     "output_type": "stream",
     "text": [
      "The key is a | The value is 1\n",
      "The key is b | The value is [1, 2]\n",
      "The key is c | The value is a string\n"
     ]
    }
   ],
   "source": [
    "dictionary = {\n",
    "    'a': 1,\n",
    "    'b': [1, 2],\n",
    "    'c': 'a string'\n",
    "}\n",
    "\n",
    "for key, value in dictionary.items():\n",
    "    print('The key is', key, '| The value is', value)"
   ]
  },
  {
   "cell_type": "markdown",
   "metadata": {},
   "source": [
    "2 things to note here are:\n",
    "- use of destructuring-assignment in the for loop. This is the other time I use destructuring-assignment all the time. outside of iterating through `enumerate`, `zip` or `items` iterables it doesn't come up that much. This is wy it's included as __USEFUL__ becuase of it's relevent to these contexts.\n",
    "- unlike `zip` and `enumerate`, which you use in the form `enumerate(list)`, `items` is a method on the dictionary itself so you use it like `dictionary.items()`. I'm not sure why this is exactly but i'd guess it has to do with the fact that enumerate is useable on any iterable object not just lists. whereas items() is something you do only to dictionarys. Just be wary of the difference."
   ]
  },
  {
   "cell_type": "markdown",
   "metadata": {},
   "source": [
    "You can use this to convert the dictionary values to a list:"
   ]
  },
  {
   "cell_type": "code",
   "execution_count": 96,
   "metadata": {},
   "outputs": [
    {
     "name": "stdout",
     "output_type": "stream",
     "text": [
      "[1, [1, 2], 'a string']\n"
     ]
    }
   ],
   "source": [
    "dictionary = {\n",
    "    'a': 1,\n",
    "    'b': [1, 2],\n",
    "    'c': 'a string'\n",
    "}\n",
    "\n",
    "dictionary_values_as_list = [v for _,v in dictionary.items()]\n",
    "print(dictionary_values_as_list)"
   ]
  },
  {
   "cell_type": "markdown",
   "metadata": {},
   "source": [
    "Something else that I tend to use it for is when you want to do something with the value data dependent on the key data. Suppose you have a list of exchanges and you want to iterate through and get data for each and then save that data to a file with the name of the exchange as the file name. One way to do this would be:"
   ]
  },
  {
   "cell_type": "code",
   "execution_count": 97,
   "metadata": {},
   "outputs": [
    {
     "name": "stdout",
     "output_type": "stream",
     "text": [
      "saving data [5933.797865132347, 4512.338684609871] to file iex_usd_eth\n",
      "saving data [4588.883387961868, 5894.629351641059] to file iex_usd_btc\n",
      "saving data [4832.160202667696, 4226.527630519815] to file bitso_usdt_btc\n"
     ]
    }
   ],
   "source": [
    "import random\n",
    "\n",
    "exchanges = {\n",
    "    'iex': ['usd_eth', 'usd_btc'],\n",
    "    'bitso': ['usdt_btc']\n",
    "}\n",
    "\n",
    "def get_bid_ask(exchange, currency_pair):\n",
    "    return [random.random()*7000, random.random()*8000]\n",
    "\n",
    "def save_bid_ask_data_for_exchange(exchange, currency_pair, data):\n",
    "    print('saving data {} to file {}_{}'.format(data, exchange, currency_pair))\n",
    "\n",
    "for exchange, currency_pairs in exchanges.items():\n",
    "    for currency_pair in currency_pairs:\n",
    "        bid_ask_data = get_bid_ask(exchange, currency_pair)\n",
    "        save_bid_ask_data_for_exchange(exchange, currency_pair, bid_ask_data,)\n",
    "        \n",
    "    "
   ]
  },
  {
   "cell_type": "markdown",
   "metadata": {},
   "source": [
    "# Problem 3\n",
    "\n",
    "___\n",
    "\n",
    "copy and paste the code bellow in to cell:\n",
    "\n",
    "```py\n",
    "import random\n",
    "\n",
    "exchanges = {\n",
    "    'iex': 'usd_btc',\n",
    "    'bitsu': 'usdt_btc'\n",
    "}\n",
    "\n",
    "def get_bid_ask(exchange, currency_pair):\n",
    "    return [random.random()*7000, random.random()*8000]\n",
    "\n",
    "```\n",
    "\n",
    "compute the average mid values for each exchange over 10 iterations and print the result in the form:\n",
    "\n",
    "```\n",
    "iex usd_btc: mid_avg = ...\n",
    "bitsu usdt_btc: mid_avg = ...\n",
    "```\n",
    "\n",
    "_note_ you can either use a for loop to iterate through the function call 10 times or call the function within list-comprehension 10 times using `[... for _ in range(10)]`\n",
    "\n",
    "The result I got was:\n",
    "\n",
    "```\n",
    "iex usd_btc: mid_avg = 4499.676105871104\n",
    "bitsu usdt_btc: mid_avg = 3541.490752970881\n",
    "```\n",
    "\n",
    "although it'll be different for you due to the use of random."
   ]
  },
  {
   "cell_type": "code",
   "execution_count": null,
   "metadata": {},
   "outputs": [],
   "source": []
  },
  {
   "cell_type": "markdown",
   "metadata": {},
   "source": [
    "## Conclusion:\n",
    "\n",
    "And that's kind of it. From the perspective of data engineering and data science scripting i'd say that's the majority of stuff that makes you fast. Obiviously theres other stuff that comes up and is very useful like classes or reading and writing to files. But while that's important i'd say that these five topics:\n",
    "\n",
    "- lists\n",
    "- list-comprehension\n",
    "- enumerate\n",
    "- dictionarys\n",
    "- items method\n",
    "\n",
    "are the bread and butter of my day. For instance if you look at https://github.com/mauicv/graph-notebooks/blob/master/graph.py you'll see i use classes 4 times but all the concepts I talk about here 19 times. So ~ %78 of that code uses the above. What's more I think that example code is reasonably OOP heavy. It's rare that i'd use classes as much as I do there.\n",
    "\n",
    "If I do another one of these i'll go through classes and object oriented programming.\n"
   ]
  },
  {
   "cell_type": "code",
   "execution_count": null,
   "metadata": {},
   "outputs": [],
   "source": []
  }
 ],
 "metadata": {
  "kernelspec": {
   "display_name": "Python 3",
   "language": "python",
   "name": "python3"
  },
  "language_info": {
   "codemirror_mode": {
    "name": "ipython",
    "version": 3
   },
   "file_extension": ".py",
   "mimetype": "text/x-python",
   "name": "python",
   "nbconvert_exporter": "python",
   "pygments_lexer": "ipython3",
   "version": "3.6.9"
  }
 },
 "nbformat": 4,
 "nbformat_minor": 4
}
