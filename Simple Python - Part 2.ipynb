{
 "cells": [
  {
   "cell_type": "markdown",
   "metadata": {},
   "source": [
    "## Simple Python - Part 2\n",
    "\n",
    "\n",
    "\n",
    "### Variables\n",
    "\n",
    "___\n",
    "\n",
    "\n",
    "Ok, so the main focus here is createing variables and lists, using if statments and then finally iterating through lists using for loops. To create a variable you just assign a value to a word using `=`."
   ]
  },
  {
   "cell_type": "code",
   "execution_count": 1,
   "metadata": {},
   "outputs": [],
   "source": [
    "this_is_a_var = 1\n",
    "this_is_another_one = 'hello'\n",
    "this_is_a_boolean_var = True\n",
    "this_is_a_float = 0.1"
   ]
  },
  {
   "cell_type": "markdown",
   "metadata": {},
   "source": [
    "Varaibles can bea number of different things. They can be integers, which are numbers like `1,2,3...` or floats which are numbers inbetween `1,2,3,..` like `0.1, 2.4, 3.6, ...`. They can be strings like `'hello world'` and then can be boolean values which take one of two states namely `True` or `False`. You call the sort of data a varaible contains, it's type and you can find out what that is by using the built-in `type` function. \n",
    "\n",
    "Note: built-in functions are small programs that come packaged in the python langauge:"
   ]
  },
  {
   "cell_type": "code",
   "execution_count": 2,
   "metadata": {},
   "outputs": [
    {
     "name": "stdout",
     "output_type": "stream",
     "text": [
      "<class 'int'>\n",
      "<class 'str'>\n",
      "<class 'bool'>\n",
      "<class 'float'>\n"
     ]
    }
   ],
   "source": [
    "print(type(this_is_a_var))\n",
    "print(type(this_is_another_one))\n",
    "print(type(this_is_a_boolean_var))\n",
    "print(type(this_is_a_float))"
   ]
  },
  {
   "cell_type": "markdown",
   "metadata": {},
   "source": [
    "You don't really need to understand this too much to start off. The only thing you really need to know here is that python allows you to do operations on varaibles, like adding them together, and if you add two variables of different types then python might complain:"
   ]
  },
  {
   "cell_type": "code",
   "execution_count": 3,
   "metadata": {},
   "outputs": [
    {
     "ename": "TypeError",
     "evalue": "unsupported operand type(s) for +: 'int' and 'str'",
     "output_type": "error",
     "traceback": [
      "\u001b[0;31m---------------------------------------------------------------------------\u001b[0m",
      "\u001b[0;31mTypeError\u001b[0m                                 Traceback (most recent call last)",
      "\u001b[0;32m<ipython-input-3-d51cf3f266a1>\u001b[0m in \u001b[0;36m<module>\u001b[0;34m\u001b[0m\n\u001b[0;32m----> 1\u001b[0;31m \u001b[0mthis_is_a_var\u001b[0m \u001b[0;34m+\u001b[0m \u001b[0mthis_is_another_one\u001b[0m\u001b[0;34m\u001b[0m\u001b[0;34m\u001b[0m\u001b[0m\n\u001b[0m",
      "\u001b[0;31mTypeError\u001b[0m: unsupported operand type(s) for +: 'int' and 'str'"
     ]
    }
   ],
   "source": [
    "this_is_a_var + this_is_another_one"
   ]
  },
  {
   "cell_type": "markdown",
   "metadata": {},
   "source": [
    "In the above case, and if it makes sense to do so then you can resolve this issue by converting the incorrect type to the correct one. In the above case you'd do:\n"
   ]
  },
  {
   "cell_type": "code",
   "execution_count": 5,
   "metadata": {},
   "outputs": [
    {
     "name": "stdout",
     "output_type": "stream",
     "text": [
      "1hello\n"
     ]
    }
   ],
   "source": [
    "print(str(this_is_a_var) + this_is_another_one)"
   ]
  },
  {
   "cell_type": "markdown",
   "metadata": {},
   "source": [
    "So `str` takes a varaible thats not a string and turns it into a string. If the types are such that python allows certain operations on them then you can do things to them such as add, subtract, multiply,..."
   ]
  },
  {
   "cell_type": "code",
   "execution_count": 7,
   "metadata": {},
   "outputs": [
    {
     "name": "stdout",
     "output_type": "stream",
     "text": [
      "20.942857142857143\n"
     ]
    }
   ],
   "source": [
    "number_7 = 7\n",
    "number_20 = 20\n",
    "number_3p4 = 3.4\n",
    "\n",
    "new_number = number_7*number_3p4 - number_20/number_7\n",
    "print(new_number)"
   ]
  },
  {
   "cell_type": "markdown",
   "metadata": {},
   "source": [
    "Note that above there are two types,`number_7` and `number_20` are both integers and `number_3p4` is a float. Python allows operations between these two types. It makes sense that you be able to add them becuase they're both numeric. Different operations mean different things for different types. So adding two strings concatinates one on top of the other:"
   ]
  },
  {
   "cell_type": "code",
   "execution_count": 14,
   "metadata": {},
   "outputs": [
    {
     "name": "stdout",
     "output_type": "stream",
     "text": [
      "hello world\n"
     ]
    }
   ],
   "source": [
    "string_1 = 'hello'\n",
    "a_space = ' '\n",
    "string_2 = 'world'\n",
    "\n",
    "print(string_1 + a_space + string_2)"
   ]
  },
  {
   "cell_type": "markdown",
   "metadata": {},
   "source": [
    "In general if you need to do something to a varaible there will probabaly be an operation that does that. I'm not going to list them all out here so just google any you need"
   ]
  },
  {
   "cell_type": "markdown",
   "metadata": {},
   "source": [
    "### Lists\n",
    "\n",
    "___\n",
    "\n",
    "Lists are just ordered sets of values. You create them by assigning `[]` to a word: "
   ]
  },
  {
   "cell_type": "code",
   "execution_count": 18,
   "metadata": {},
   "outputs": [
    {
     "name": "stdout",
     "output_type": "stream",
     "text": [
      "<class 'list'>\n"
     ]
    }
   ],
   "source": [
    "a_list = []\n",
    "print(type(a_list))"
   ]
  },
  {
   "cell_type": "markdown",
   "metadata": {},
   "source": [
    "You can create them so that they contain things:\n"
   ]
  },
  {
   "cell_type": "code",
   "execution_count": 21,
   "metadata": {},
   "outputs": [],
   "source": [
    "a_list = [1,2,3,4,5]"
   ]
  },
  {
   "cell_type": "markdown",
   "metadata": {},
   "source": [
    "You can access values in the list using the index of that value. So `a_list[2]` would be the second value counting from 0, in this case 3:"
   ]
  },
  {
   "cell_type": "code",
   "execution_count": 25,
   "metadata": {},
   "outputs": [
    {
     "name": "stdout",
     "output_type": "stream",
     "text": [
      "3\n"
     ]
    }
   ],
   "source": [
    "print(a_list[2])"
   ]
  },
  {
   "cell_type": "markdown",
   "metadata": {},
   "source": [
    "you can compute the length of the list using the built-in function `len`"
   ]
  },
  {
   "cell_type": "code",
   "execution_count": 26,
   "metadata": {},
   "outputs": [
    {
     "name": "stdout",
     "output_type": "stream",
     "text": [
      "5\n"
     ]
    }
   ],
   "source": [
    "print(len(a_list))"
   ]
  },
  {
   "cell_type": "markdown",
   "metadata": {},
   "source": [
    "lists can contain any value and even mixes of values, including other lists."
   ]
  },
  {
   "cell_type": "code",
   "execution_count": 31,
   "metadata": {},
   "outputs": [
    {
     "name": "stdout",
     "output_type": "stream",
     "text": [
      "['a', 1, 'b', [1, 2, ['c']], 1, 2, 'hello', 10000]\n"
     ]
    }
   ],
   "source": [
    "another_list = ['a', 1, 'b', [1,2,['c']], 1, 2, 'hello', 10000]\n",
    "print(another_list)\n"
   ]
  },
  {
   "cell_type": "code",
   "execution_count": 32,
   "metadata": {},
   "outputs": [
    {
     "name": "stdout",
     "output_type": "stream",
     "text": [
      "[1, 2, ['c']]\n"
     ]
    }
   ],
   "source": [
    "print(another_list[3])"
   ]
  },
  {
   "cell_type": "markdown",
   "metadata": {},
   "source": [
    "The main use of lists is being able to line up data and iterate through it. In python you do this using the `for` keyword:"
   ]
  },
  {
   "cell_type": "code",
   "execution_count": 33,
   "metadata": {},
   "outputs": [
    {
     "name": "stdout",
     "output_type": "stream",
     "text": [
      "a\n",
      "1\n",
      "b\n",
      "[1, 2, ['c']]\n",
      "1\n",
      "2\n",
      "hello\n",
      "10000\n"
     ]
    }
   ],
   "source": [
    "for item in another_list:\n",
    "    print(item)"
   ]
  },
  {
   "cell_type": "markdown",
   "metadata": {},
   "source": [
    "In the above, item is a variable that is assigned to each value in the list one after the other finishing with the final variable,which in the above case is `10000`. Sometimes you want to iterate through integers. For instance if you want a program to do something `4` times. To do this you'd use the build in function`range`:"
   ]
  },
  {
   "cell_type": "code",
   "execution_count": 36,
   "metadata": {},
   "outputs": [
    {
     "name": "stdout",
     "output_type": "stream",
     "text": [
      "party!!!\n",
      "party!!!\n",
      "party!!!\n",
      "party!!!\n"
     ]
    }
   ],
   "source": [
    "for i in range(4):\n",
    "    print('party!!!')"
   ]
  },
  {
   "cell_type": "markdown",
   "metadata": {},
   "source": [
    "becuase you can access values in lists by index the above means you can iterate through each value in a list useing range like so."
   ]
  },
  {
   "cell_type": "code",
   "execution_count": 40,
   "metadata": {},
   "outputs": [
    {
     "name": "stdout",
     "output_type": "stream",
     "text": [
      "0 : 1\n",
      "1 : 2\n",
      "2 : 3\n",
      "3 : 4\n"
     ]
    }
   ],
   "source": [
    "list_of_length_4 = [1,2,3,4]\n",
    "\n",
    "for i in range(len(list_of_length_4)):\n",
    "    ith_value = list_of_length_4[i]\n",
    "    print(str(i) + ' : ' + str(ith_value))\n"
   ]
  },
  {
   "cell_type": "markdown",
   "metadata": {},
   "source": [
    "Note that:\n",
    "\n",
    "```py\n",
    "for i in range(len(list_of_length_4)):\n",
    "    ith_value = list_of_length_4[i]\n",
    "```\n",
    "\n",
    "Is the exact same as:\n",
    "\n",
    "```py\n",
    "for ith_value in list_of_length_4:\n",
    "    ...\n",
    "```\n"
   ]
  },
  {
   "cell_type": "markdown",
   "metadata": {},
   "source": [
    "Note also there are other ways of keeping track of the index as you iterate through a list. For isntance you could create a variable called `count` and add one on each iteration of the for loop."
   ]
  },
  {
   "cell_type": "code",
   "execution_count": 42,
   "metadata": {},
   "outputs": [
    {
     "name": "stdout",
     "output_type": "stream",
     "text": [
      "1\n",
      "2\n",
      "3\n",
      "4\n"
     ]
    }
   ],
   "source": [
    "list_of_length_4 = [1,2,3,4]\n",
    "count = 0\n",
    "\n",
    "for item in list_of_length_4:\n",
    "    count = count + 1\n",
    "    print(count)\n"
   ]
  },
  {
   "cell_type": "markdown",
   "metadata": {},
   "source": [
    "Ok so `count = count + 1` means: set the value in count to the current value in count plus 1. Remeber `=` is the assignment operator, which says take this value and put it in this memory space. It's not the same as the equality operator which returns the boolean value `True` if each side of the operator are the same... This brings us onto if statments:\n",
    "\n",
    "### Conditionals\n",
    "\n",
    "___\n",
    "\n",
    "\n",
    "If statments allow you to control or filter the data on the basis of some condition. They take the form:\n",
    "\n",
    "```\n",
    "if condition:\n",
    "    do something\n",
    "elif another_condition:\n",
    "    do something else\n",
    "else:\n",
    "    do another thing\n",
    "```\n",
    "\n",
    "Condition is just some operation that resolves as either True of False. The if statment does the thing for which the condition first becomes True. As an example we can write the following program that detects if a number is odd or even."
   ]
  },
  {
   "cell_type": "code",
   "execution_count": 49,
   "metadata": {},
   "outputs": [
    {
     "name": "stdout",
     "output_type": "stream",
     "text": [
      "1 is odd!\n"
     ]
    }
   ],
   "source": [
    "a_number = 1\n",
    "\n",
    "if a_number%2 == 0:\n",
    "    print(str(a_number) + ' is even!')\n",
    "else:\n",
    "    print(str(a_number) + ' is odd!')"
   ]
  },
  {
   "cell_type": "markdown",
   "metadata": {},
   "source": [
    "There are two operaters used here in the conditional. `a%b` divides `a` by `b` and returns the remainder. So `10%3` gives `1`. This is useful for us becuase if `a_number` is even then `a_number%2` will equal `0` and if it's odd then it'll be `1`. Finally `==` is the equality operator. `a == b` gives `True` if `a` is equal to `b` and `False` otherwise. So in the above if statment the program will do the first thing if `a_number%2` is zero and the second thing if not. We can see each of these values:"
   ]
  },
  {
   "cell_type": "code",
   "execution_count": 56,
   "metadata": {},
   "outputs": [
    {
     "name": "stdout",
     "output_type": "stream",
     "text": [
      "here a_number is odd\n",
      "1\n",
      "False\n",
      "\n",
      "here it's even\n",
      "0\n",
      "True\n"
     ]
    }
   ],
   "source": [
    "print(\"here a_number is odd\")\n",
    "a_number = 1\n",
    "print(a_number%2)\n",
    "print(a_number%2 == 0)\n",
    "print()\n",
    "print(\"here it's even\")\n",
    "a_number = 4\n",
    "print(a_number%2)\n",
    "print(a_number%2 == 0)"
   ]
  },
  {
   "cell_type": "markdown",
   "metadata": {},
   "source": [
    "`==` is not the only operator that takes two things and returns a true or false value. You can also use `<` or the less than operator which given `a`, `b` returns `True` for `a<b` if `a` is less than `b` and `False` otherwise. Similarly greater than `>`, i'll elve you to figure out. `>=` returns true if the number on the left hand side is greater than or equal to the number of the right. Similarly `<=` blah blah blah. Finally the `!=` or not equal to operator, returns true if `a` is not equal to `b`. "
   ]
  },
  {
   "cell_type": "markdown",
   "metadata": {},
   "source": [
    "Okay, so this means we can now write a program that does something a tun of times but does different things dependent on the particular iteration. Suppose you want to add up all the even numbers between 0 and 100 then:"
   ]
  },
  {
   "cell_type": "code",
   "execution_count": 60,
   "metadata": {},
   "outputs": [
    {
     "name": "stdout",
     "output_type": "stream",
     "text": [
      "2450\n"
     ]
    }
   ],
   "source": [
    "sum_of_numbers = 0\n",
    "for i in range(100):\n",
    "    if i%2==0:\n",
    "        sum_of_numbers = sum_of_numbers + i\n",
    "        \n",
    "print(sum_of_numbers)"
   ]
  },
  {
   "cell_type": "markdown",
   "metadata": {},
   "source": [
    "There's a lot of power in these three things: `lists`, `for loops` and `if statments`. In particular it's immportant to understand that they are peices that you can combine within each other. So for instance you can have if statments within if statments:"
   ]
  },
  {
   "cell_type": "code",
   "execution_count": 61,
   "metadata": {},
   "outputs": [
    {
     "name": "stdout",
     "output_type": "stream",
     "text": [
      "here\n"
     ]
    }
   ],
   "source": [
    "a = 1\n",
    "b = 1\n",
    "c = 2\n",
    "d = 3\n",
    "\n",
    "if a == 1:\n",
    "    if b == 2:\n",
    "        print('not here')\n",
    "    else:\n",
    "        if c == 2 and d == 3:\n",
    "            print('here')\n",
    "    "
   ]
  },
  {
   "cell_type": "markdown",
   "metadata": {},
   "source": [
    "Guess what `and` does!"
   ]
  },
  {
   "cell_type": "markdown",
   "metadata": {},
   "source": [
    "Similarly you can have for loops within for loops:"
   ]
  },
  {
   "cell_type": "code",
   "execution_count": 85,
   "metadata": {},
   "outputs": [
    {
     "name": "stdout",
     "output_type": "stream",
     "text": [
      "['X', '.', '.', '.', '.', '.', '.', '.', '.', '.', '.', '.', '.', '.', '.']\n",
      "['X', 'X', '.', '.', '.', '.', '.', '.', '.', '.', '.', '.', '.', '.', '.']\n",
      "['X', '.', 'X', '.', '.', '.', '.', '.', '.', '.', '.', '.', '.', '.', '.']\n",
      "['X', 'X', '.', 'X', '.', '.', '.', '.', '.', '.', '.', '.', '.', '.', '.']\n",
      "['X', '.', '.', '.', 'X', '.', '.', '.', '.', '.', '.', '.', '.', '.', '.']\n",
      "['X', 'X', 'X', '.', '.', 'X', '.', '.', '.', '.', '.', '.', '.', '.', '.']\n",
      "['X', '.', '.', '.', '.', '.', 'X', '.', '.', '.', '.', '.', '.', '.', '.']\n",
      "['X', 'X', '.', 'X', '.', '.', '.', 'X', '.', '.', '.', '.', '.', '.', '.']\n",
      "['X', '.', 'X', '.', '.', '.', '.', '.', 'X', '.', '.', '.', '.', '.', '.']\n",
      "['X', 'X', '.', '.', 'X', '.', '.', '.', '.', 'X', '.', '.', '.', '.', '.']\n",
      "['X', '.', '.', '.', '.', '.', '.', '.', '.', '.', 'X', '.', '.', '.', '.']\n",
      "['X', 'X', 'X', 'X', '.', 'X', '.', '.', '.', '.', '.', 'X', '.', '.', '.']\n",
      "['X', '.', '.', '.', '.', '.', '.', '.', '.', '.', '.', '.', 'X', '.', '.']\n",
      "['X', 'X', '.', '.', '.', '.', 'X', '.', '.', '.', '.', '.', '.', 'X', '.']\n",
      "['X', '.', 'X', '.', 'X', '.', '.', '.', '.', '.', '.', '.', '.', '.', 'X']\n",
      "['X', 'X', '.', 'X', '.', '.', '.', 'X', '.', '.', '.', '.', '.', '.', '.']\n",
      "['X', '.', '.', '.', '.', '.', '.', '.', '.', '.', '.', '.', '.', '.', '.']\n",
      "['X', 'X', 'X', '.', '.', 'X', '.', '.', 'X', '.', '.', '.', '.', '.', '.']\n",
      "['X', '.', '.', '.', '.', '.', '.', '.', '.', '.', '.', '.', '.', '.', '.']\n",
      "['X', 'X', '.', 'X', 'X', '.', '.', '.', '.', 'X', '.', '.', '.', '.', '.']\n",
      "['X', '.', 'X', '.', '.', '.', 'X', '.', '.', '.', '.', '.', '.', '.', '.']\n",
      "['X', 'X', '.', '.', '.', '.', '.', '.', '.', '.', 'X', '.', '.', '.', '.']\n",
      "['X', '.', '.', '.', '.', '.', '.', '.', '.', '.', '.', '.', '.', '.', '.']\n",
      "['X', 'X', 'X', 'X', '.', 'X', '.', 'X', '.', '.', '.', 'X', '.', '.', '.']\n",
      "['X', '.', '.', '.', 'X', '.', '.', '.', '.', '.', '.', '.', '.', '.', '.']\n",
      "['X', 'X', '.', '.', '.', '.', '.', '.', '.', '.', '.', '.', 'X', '.', '.']\n",
      "['X', '.', 'X', '.', '.', '.', '.', '.', 'X', '.', '.', '.', '.', '.', '.']\n",
      "['X', 'X', '.', 'X', '.', '.', 'X', '.', '.', '.', '.', '.', '.', 'X', '.']\n",
      "['X', '.', '.', '.', '.', '.', '.', '.', '.', '.', '.', '.', '.', '.', '.']\n",
      "['X', 'X', 'X', '.', 'X', 'X', '.', '.', '.', 'X', '.', '.', '.', '.', 'X']\n",
      "['X', '.', '.', '.', '.', '.', '.', '.', '.', '.', '.', '.', '.', '.', '.']\n",
      "['X', 'X', '.', 'X', '.', '.', '.', 'X', '.', '.', '.', '.', '.', '.', '.']\n",
      "['X', '.', 'X', '.', '.', '.', '.', '.', '.', '.', 'X', '.', '.', '.', '.']\n",
      "['X', 'X', '.', '.', '.', '.', '.', '.', '.', '.', '.', '.', '.', '.', '.']\n",
      "['X', '.', '.', '.', 'X', '.', 'X', '.', '.', '.', '.', '.', '.', '.', '.']\n",
      "['X', 'X', 'X', 'X', '.', 'X', '.', '.', 'X', '.', '.', 'X', '.', '.', '.']\n",
      "['X', '.', '.', '.', '.', '.', '.', '.', '.', '.', '.', '.', '.', '.', '.']\n",
      "['X', 'X', '.', '.', '.', '.', '.', '.', '.', '.', '.', '.', '.', '.', '.']\n",
      "['X', '.', 'X', '.', '.', '.', '.', '.', '.', '.', '.', '.', 'X', '.', '.']\n",
      "['X', 'X', '.', 'X', 'X', '.', '.', 'X', '.', 'X', '.', '.', '.', '.', '.']\n"
     ]
    }
   ],
   "source": [
    "mat = []\n",
    "for i in range(40):\n",
    "    mat.append([])\n",
    "    for j in range(15):\n",
    "        if (i+1)%(j+1)==0:\n",
    "            mat[i].append('X')\n",
    "        else:\n",
    "            mat[i].append('.')\n",
    "\n",
    "for item in mat:\n",
    "    print(item)"
   ]
  },
  {
   "cell_type": "markdown",
   "metadata": {},
   "source": [
    "## Problems:\n",
    "\n",
    "___\n",
    "\n",
    "\n",
    "1. Count how many numbers between 0 and 100 are divisable by 2. You'll need to iterate through 0 to 100 and test each value. If that value is divisable by 2 you should add one to a counter variable. Alternativly you can filter a list for just those that are divisable by 2 and then use len() to find out how long it is.\n"
   ]
  },
  {
   "cell_type": "code",
   "execution_count": null,
   "metadata": {},
   "outputs": [],
   "source": []
  },
  {
   "cell_type": "markdown",
   "metadata": {},
   "source": [
    "2. Write a program that prints the numbers from 1 to 100. But for multiples of three print “Fizz” instead of the number and for the multiples of five print “Buzz”. For numbers which are multiples of both three and five print “FizzBuzz”."
   ]
  },
  {
   "cell_type": "code",
   "execution_count": null,
   "metadata": {},
   "outputs": [],
   "source": []
  },
  {
   "cell_type": "markdown",
   "metadata": {},
   "source": [
    "3. Let `a=[1,2,3,4,5]` and `b=[5,4,3,2,1]`. Multiply each element of a by the corresponding element of b and sum over the products. You should get:"
   ]
  },
  {
   "cell_type": "code",
   "execution_count": null,
   "metadata": {},
   "outputs": [],
   "source": []
  },
  {
   "cell_type": "markdown",
   "metadata": {},
   "source": [
    "4. You can take input in a program using `a_variable = input()`. This creates a prompt for the user where they can input a value. Using this create a program that requests the users name and then returns a different greeting dependent on who they are."
   ]
  },
  {
   "cell_type": "code",
   "execution_count": null,
   "metadata": {},
   "outputs": [],
   "source": []
  },
  {
   "cell_type": "markdown",
   "metadata": {},
   "source": [
    "5. Create a game in which a player has to guess a sequence of random numbers. The code to generate the random numbers is bellow. It's a list of length 10. Each value is one of 0,1,2 or 3. So the game should go on for 10 turns and each turn the user should guess a number if it's correct you should add one to a score varaible and at the end you should tell the user there score. If the user inputs a value outside of 0 - 3 you should tell them off.\n",
    "_**Note**: you might want to check what type is given when assigning a variable via `input()`_"
   ]
  },
  {
   "cell_type": "code",
   "execution_count": 30,
   "metadata": {},
   "outputs": [],
   "source": [
    "from random import randint\n",
    "random_numbers = [randint(0, 3) for _ in range(10)]"
   ]
  }
 ],
 "metadata": {
  "kernelspec": {
   "display_name": "Python 3",
   "language": "python",
   "name": "python3"
  },
  "language_info": {
   "codemirror_mode": {
    "name": "ipython",
    "version": 3
   },
   "file_extension": ".py",
   "mimetype": "text/x-python",
   "name": "python",
   "nbconvert_exporter": "python",
   "pygments_lexer": "ipython3",
   "version": "3.6.9"
  }
 },
 "nbformat": 4,
 "nbformat_minor": 4
}
