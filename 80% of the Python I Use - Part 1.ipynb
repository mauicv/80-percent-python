{
 "cells": [
  {
   "cell_type": "markdown",
   "metadata": {},
   "source": [
    "## 80% of the Python I Use - Part 1\n",
    "\n",
    "\n",
    "___\n",
    "\n",
    "\n",
    "Python is a giant plethora of tools with which people do everything from build web applications to train machine learning models. It occured to me that while the set of tools within the language is vast the use of these tools obeys a pareto distrubution. That is there is a very small number of tools that I use the vast majoirty of the time. This is the first lesson of `n` that just walks through these tools.\n",
    "\n",
    "The general theme in the first two notebooks will be data structures and how to manipulate them. I working from the perspective of a data engineer/scientist. This lesson is on lists and the methods that you can use to change and map them. The next notebook will be on dictionarys.\n",
    "\n",
    "I've included some simple problems as well that should allow you to verify your own undestanding of these programming concepts. The apporach i'd advise is:\n",
    "\n",
    "- Quickly skim read the material.\n",
    "- Try a problem and don't spend more than 10 mins.\n",
    "- If you can't solve it look back over the material in greater depth and then try the problem again. Don't spend more than 20 mins in the second attempt.\n",
    "- If you can't get it in 20 mins ask for help.\n",
    "\n",
    "This set of notebooks isn't supposed to be a challange, it's supposed to be a download of concepts into you brain to get you %80 of the most used in the python tool set. Note that i'm defining the python tool set as those things are are built into python. I'll perhaps add tutoirals for 80% of the numpy, pandas or flask I use later.\n",
    "\n",
    "I've also added some tags to explain the way i've personally learnt and use these tools. These tags try to illustrate the ideas you should consiously set about trying to learn and the ones that you shouldn't try to learn. \n",
    "- __The former__ are concepts that are sort of flexible in a way that means they're of great utility. But in being flexible they also require you have a coherent mental model of how they work in order to get the full beinift. It's this model you should be trying to learn. \n",
    "- __In contrast the latter__ are tools that are easy in that the mental model for them is really simple. However there is a great number of these tools and it's not worth while trying to memorize them all. I've found the ones I use most i've eventually just memorized over time by a osmotic process. The trick here is to know that you can do a thing and know how to google how to find out how to do that thing but not to try to memorize it.\n",
    "\n",
    "The tags are:\n",
    "\n",
    "__NOT-THAT-USEFUL__: This is stuff that I rarely use. Other programmers might use it so it's useful to see if it crops up in any code you might be reading. I tend to think of these as maybe slight oddities that have been included in python for reasons I don't quite understand. I don't advise learning this particualarly but it's useful to know it exists. The reasons I typically don't use these ideas is becuase they make stuff harder to read and often there are other ways that are more cannon __or__ they are super super useful but only in very particular cases that I've found myself comming acorss very rairly.\n",
    "    - examples in this notebook:\n",
    "        1. lambda functions\n",
    "\n",
    "__JUST-GOOGLE__: This is stuff that I use alot and it's typically simple stuff that's syntatically varied. Becuase theres so much varaiation I never consiously commit it to memory becuase it's easier to just remeber that vauge idea and then google it when needed. This is stuff like all the operations you can perform on variables or all the methods defined on strings. Don't try to learn it but get good at knowing how to google for it.\n",
    "    - examples in this notebook:\n",
    "        1. `replace()` method on Strings\n",
    "        2. `pop()` method on lists\n",
    "        3. `%` operator\n",
    "        4. iterators\n",
    "        5. slice-notation\n",
    "\n",
    "__USEFUL__: This is stuff I wasn't super familar with when I started python but now I use all the time. It's the bread and butter of becomming fast and compitent at python. It's not typically the only way to do the thing but it is often the fastest and most readable. It is typically googleable so don't memorize it but it is increadably worth while getting familiar with it beucase of the speed gains.\n",
    "    - examples in this notebook:\n",
    "        1. list-comprehension,\n",
    "        2. enumerate\n",
    "        3. zip (not as useful as 1. and 2.)\n",
    "        4. destructuring-assignment (less useful)\n",
    "        5. single line if statments (less useful) \n",
    "        \n",
    "\n",
    "If you learn anything from this notebook learn: __list-comprehension__ then __enumerate__ and then __zip__ in that order! This is the 10X stuff!\n",
    "\n",
    "__note__: This notebook assumes you roughly know the very basics of programming in python. i.e. variables, loops, conditionals (if statments), functions and print statments. "
   ]
  },
  {
   "cell_type": "markdown",
   "metadata": {},
   "source": [
    "___\n",
    "\n",
    "### Variables and lists:\n",
    "\n",
    "First lets briefly touch on variables:\n",
    "\n",
    "A varibale you just instantilize using:\n",
    "\n",
    "```py\n",
    "this_is_a_varaible = 1\n",
    "```\n",
    "\n",
    "you've seen these so you know that you do operations depending on the type. So if it's a integer then you can add it to another integer, if it's a string you can do things like:\n",
    "\n",
    "```py\n",
    "this_is_a_string = 'string'\n",
    "this_is_a_string.replace('i', 'o')\n",
    "```\n",
    "\n",
    "ok, pretty boring, the take away is just that they contain stuff and you can do stuff to them. It's useful to know roughly the set of things you can do but not memorize the actual syntactial implementations (__JUST-GOOGLE__). Typically if you find yourself asking 'I wonder if theres a way to do this thing' then there probably is and you should try and goodle it!\n"
   ]
  },
  {
   "cell_type": "markdown",
   "metadata": {},
   "source": [
    "## Lists (the main event)\n",
    "\n",
    "Next up is a list. Lists are variables that are collections of other variables. They can contain lots of stuff, including other lists:"
   ]
  },
  {
   "cell_type": "code",
   "execution_count": 148,
   "metadata": {},
   "outputs": [
    {
     "name": "stdout",
     "output_type": "stream",
     "text": [
      "[['eh', 3], 2, [5, 6, 7], 'goodbye', 4]\n"
     ]
    }
   ],
   "source": [
    "this_is_a_list = [1, 2, 3, 4]\n",
    "this_is_another_list = ['hello', 2, 'goodbye', 4]\n",
    "and_another_list = [['eh', 3], 2, [5, 6, 7], 'goodbye', 4]\n",
    "print(and_another_list)"
   ]
  },
  {
   "cell_type": "markdown",
   "metadata": {},
   "source": [
    "Typically if your trying to do something specific with a list, like remove an element, then they're will be a way and you should __JUST-GOOGLE__ it.\n",
    "\n",
    "__googled__: `how to remove element from list python`\n",
    "\n",
    "__first result__: https://discuss.codecademy.com/t/what-ways-can-we-use-to-remove-elements-from-a-list-in-python/376298"
   ]
  },
  {
   "cell_type": "code",
   "execution_count": 15,
   "metadata": {},
   "outputs": [
    {
     "name": "stdout",
     "output_type": "stream",
     "text": [
      "[10, 20, 40]\n",
      "30\n"
     ]
    }
   ],
   "source": [
    "numbers = [10, 20, 30, 40]\n",
    "removed_element = numbers.pop(2)\n",
    "print(numbers)\n",
    "print(removed_element)"
   ]
  },
  {
   "cell_type": "markdown",
   "metadata": {},
   "source": [
    "\n",
    "Typically you won't create lists by hand you'll do it programatically. So for instance if you want a list of numbers from 1 to 10 instead of\n",
    "```py\n",
    "nums = [1,2,3,4,5,6,7,8,9,10]\n",
    "```\n",
    "\n",
    "you'd do:"
   ]
  },
  {
   "cell_type": "code",
   "execution_count": 178,
   "metadata": {},
   "outputs": [
    {
     "name": "stdout",
     "output_type": "stream",
     "text": [
      "[1, 2, 3, 4, 5, 6, 7, 8, 9, 10]\n"
     ]
    }
   ],
   "source": [
    "nums = [i + 1 for i in range(10)]\n",
    "\n",
    "print(nums)"
   ]
  },
  {
   "cell_type": "markdown",
   "metadata": {},
   "source": [
    "*note*: we use `i+1` becuase range returns values starting from 0.\n",
    "\n",
    "`range` is a builtin function that creates an objecy that is iterable. An __iterable__ object is anything in python that you can use `for` loop on. Don't worry about understanding this. It definetly falls into __NOT-THAT-USEFUL__ but in the sense that you'd rarely have cause to use such an object. When you do they are pretty cool.\n",
    "\n",
    "Note: iterable objects __are not__ lists instead they can be turned into lists by using the list constructor like so `list(range(10))`. The list constructor falls under __NOT-THAT-USEFUL__ becuase i've only really used it to turn iterable objects into lists and it's equivalent to doing `[i for i in iterable_object]`. lists are iterable objects themselves which means you can use them in a for loop:"
   ]
  },
  {
   "cell_type": "code",
   "execution_count": 16,
   "metadata": {},
   "outputs": [
    {
     "name": "stdout",
     "output_type": "stream",
     "text": [
      "[1, 2, 3]\n"
     ]
    }
   ],
   "source": [
    "nums = [i + 1 for i in range(3)]\n",
    "other_nums = []\n",
    "for num in nums:\n",
    "    other_nums.append(num)\n",
    "print(other_nums)"
   ]
  },
  {
   "cell_type": "markdown",
   "metadata": {},
   "source": [
    "The `for` keyword is more versitile than just allowing you to iterate through items in lists. You can also use it with something called list-comprehension:\n",
    "\n",
    "https://www.programiz.com/python-programming/list-comprehension\n",
    "\n",
    "This is super __USEFUL__! I use list-comprehension at least 10-20 times a day and they're in so much of the production code i've written i've lost count.\n",
    "\n",
    "List comprehension allows you to create lists using a for loop within a the list initialization itself. We've actaully alread used one with `nums = [i + 1 for i in range(3)]`. So for instance if you have a list of numbers you can get a list of there squares by using list comprehension:"
   ]
  },
  {
   "cell_type": "code",
   "execution_count": 182,
   "metadata": {},
   "outputs": [
    {
     "name": "stdout",
     "output_type": "stream",
     "text": [
      "[1, 4, 9, 16, 25, 36, 49, 64, 81, 100, 121, 144, 169, 196, 225, 256, 289, 324, 361, 400]\n"
     ]
    }
   ],
   "source": [
    "nums = [i + 1 for i in range(20)]\n",
    "squares = [i*i for i in nums]\n",
    "print(squares)"
   ]
  },
  {
   "cell_type": "markdown",
   "metadata": {},
   "source": [
    "note that instead of `i*i` we can do somehting more complicated. For instance:"
   ]
  },
  {
   "cell_type": "code",
   "execution_count": 183,
   "metadata": {},
   "outputs": [
    {
     "name": "stdout",
     "output_type": "stream",
     "text": [
      "[-4, 18, 70, 164, 312, 526, 818, 1200, 1684, 2282, 3006, 3868, 4880, 6054, 7402, 8936, 10668, 12610, 14774, 17172]\n"
     ]
    }
   ],
   "source": [
    "nums = [i + 1 for i in range(20)]\n",
    "something_more_complicated = [2*i*i*i + 3*i*i - i - 8 for i in nums]\n",
    "print(something_more_complicated)"
   ]
  },
  {
   "cell_type": "markdown",
   "metadata": {},
   "source": [
    "It's important to realise that `[i*i for i in nums]` is the same as using a for loop like so:"
   ]
  },
  {
   "cell_type": "code",
   "execution_count": 17,
   "metadata": {},
   "outputs": [
    {
     "name": "stdout",
     "output_type": "stream",
     "text": [
      "[1, 4, 9, 16, 25, 36, 49, 64, 81, 100, 121, 144, 169, 196, 225, 256, 289, 324, 361, 400]\n"
     ]
    }
   ],
   "source": [
    "nums = [i + 1 for i in range(20)]\n",
    "\n",
    "squares = []\n",
    "for num in nums:\n",
    "    squares.append(num*num)\n",
    "    \n",
    "print(squares)"
   ]
  },
  {
   "cell_type": "markdown",
   "metadata": {},
   "source": [
    "The difference is that three lines of code are reduced to one and it's way more readable. To see this in general note that using pythons built in sum function we can calculate the variance of a list of random numbers:"
   ]
  },
  {
   "cell_type": "code",
   "execution_count": 18,
   "metadata": {},
   "outputs": [
    {
     "data": {
      "text/plain": [
       "0.08352560113943848"
      ]
     },
     "execution_count": 18,
     "metadata": {},
     "output_type": "execute_result"
    }
   ],
   "source": [
    "import random\n",
    "\n",
    "nums = [random.random() for _ in range(20000)]\n",
    "avg = sum(nums)/len(nums)\n",
    "variance = sum([(num-avg)*(num-avg) for num in nums])/(len(nums)-1)\n",
    "variance"
   ]
  },
  {
   "cell_type": "markdown",
   "metadata": {},
   "source": [
    "note that using `_` when we use `nums` just serves to indicate that we don't use the value returned from the iterable `range(2000)`\n",
    "\n",
    "In contrast calcualting the variance using a for loop looks like:"
   ]
  },
  {
   "cell_type": "code",
   "execution_count": 19,
   "metadata": {},
   "outputs": [
    {
     "data": {
      "text/plain": [
       "0.08312444881047959"
      ]
     },
     "execution_count": 19,
     "metadata": {},
     "output_type": "execute_result"
    }
   ],
   "source": [
    "nums = []\n",
    "for _ in range(20000):\n",
    "    nums.append(random.random())\n",
    "\n",
    "sum_of_nums = 0 \n",
    "count = 0\n",
    "\n",
    "for num in nums:\n",
    "    sum_of_nums = sum_of_nums + num\n",
    "    count = count + 1\n",
    "\n",
    "avg = sum_of_nums/count\n",
    "\n",
    "sum_of_diffs = 0\n",
    "for num in nums:\n",
    "    sum_of_diffs = sum_of_diffs + (num-avg)*(num-avg)\n",
    "    \n",
    "variance = sum_of_diffs/(count-1)\n",
    "variance"
   ]
  },
  {
   "cell_type": "markdown",
   "metadata": {},
   "source": [
    "2 lines of quite unreadable code verses 10 lines of logic!!!"
   ]
  },
  {
   "cell_type": "markdown",
   "metadata": {},
   "source": [
    "List-comprehension also allows you to also apply functions to each element in the list. So for instance you may not want to write out all the operations your using on elements of a list in which case you'd do somehting like:"
   ]
  },
  {
   "cell_type": "code",
   "execution_count": 187,
   "metadata": {},
   "outputs": [
    {
     "data": {
      "text/plain": [
       "['hello0bye', 'hello1bye', 'hello752bye', 'hello20331bye']"
      ]
     },
     "execution_count": 187,
     "metadata": {},
     "output_type": "execute_result"
    }
   ],
   "source": [
    "def f(x):\n",
    "    return \"hello\" + str(3*x*x*x*x*x*x*x*x + abs(x*x*x*x*x*x*x) - 2*x*x*x*x*x*x - 1*x*x*x*x) + 'bye'\n",
    "\n",
    "a_list = [f(x) for x in range(4)]\n",
    "a_list"
   ]
  },
  {
   "cell_type": "raw",
   "metadata": {},
   "source": [
    "or even:"
   ]
  },
  {
   "cell_type": "code",
   "execution_count": 188,
   "metadata": {},
   "outputs": [
    {
     "data": {
      "text/plain": [
       "['hello0bye', 'hello1bye', 'hello752bye', 'hello20331bye']"
      ]
     },
     "execution_count": 188,
     "metadata": {},
     "output_type": "execute_result"
    }
   ],
   "source": [
    "def big_num(x):\n",
    "    return 3*x*x*x*x*x*x*x*x + abs(x*x*x*x*x*x*x) - 2*x*x*x*x*x*x - 1*x*x*x*x\n",
    "\n",
    "def make_string(x):\n",
    "    return str(x)\n",
    "\n",
    "def add_hello(x):\n",
    "    return \"hello\" + x\n",
    "\n",
    "def add_goodbye(x):\n",
    "    return x + 'bye'\n",
    "\n",
    "a_list = [add_goodbye(add_hello(make_string(big_num(x)))) for x in range(4)]\n",
    "a_list"
   ]
  },
  {
   "cell_type": "markdown",
   "metadata": {},
   "source": [
    "# PROBLEM 1:\n",
    "\n",
    "\n",
    "given a list of mid point prices for two exchanges:\n",
    "\n",
    "```\n",
    "exc_a_exc_b = [[7005,7060], [7010,7050], [7000,7020]]\n",
    "```\n",
    "\n",
    "get a list of the discounts between each. So for time `0` it should be `a[0][0]/a[0][1] - 1`. The result should be a length 3 list equal to:\n",
    "\n",
    "```\n",
    "result = [0.007851534618129818, 0.005706134094151105, 0.0028571428571428914]\n",
    "```\n"
   ]
  },
  {
   "cell_type": "code",
   "execution_count": null,
   "metadata": {},
   "outputs": [],
   "source": []
  },
  {
   "cell_type": "markdown",
   "metadata": {},
   "source": [
    "# PROBLEM 2:\n",
    "\n",
    "Create an list of lists called `arr` such that the value at the j<sup>th</sup> location in the i<sup>th</sup> list is equal to the sum of i and j. So `arr[3][6] = 9`. You should try this using both for loops and list-comprehension. The lists can be what ever size you wish but if they're size two the result would look like:\n",
    "\n",
    "`[[0, 1], [1, 2]]`\n",
    "\n",
    "Note that you can nest list-comprehension within another list-comprehension. \n"
   ]
  },
  {
   "cell_type": "code",
   "execution_count": null,
   "metadata": {},
   "outputs": [],
   "source": []
  },
  {
   "cell_type": "markdown",
   "metadata": {},
   "source": [
    "### Enumerate:\n"
   ]
  },
  {
   "cell_type": "markdown",
   "metadata": {},
   "source": [
    "Suppose you have a list of numbers and want to square every second number. I'll show you first how to do this using a for loop with the `enumerate` built in and then how to do it with list-comprehension.\n",
    "\n",
    "__USEFUL__: I use enumerate about as much as I use list-comprehension. \n",
    "\n",
    "What enumerate does is take an iterator, in our case a list and for each value in the list it returns the value and the index of that value in a tuple.\n"
   ]
  },
  {
   "cell_type": "code",
   "execution_count": 20,
   "metadata": {},
   "outputs": [
    {
     "name": "stdout",
     "output_type": "stream",
     "text": [
      "(0, 0.16796330117112712)\n",
      "(1, 0.30536232896359017)\n",
      "(2, 0.2862289938307442)\n"
     ]
    }
   ],
   "source": [
    "nums = [random.random() for _ in range(3)]\n",
    "for i in enumerate(nums):\n",
    "    print(i)"
   ]
  },
  {
   "cell_type": "markdown",
   "metadata": {},
   "source": [
    "__slight detour__ : Will return to enumerate in a second.\n",
    "\n",
    "Something you may not have seen yet is destructuring-assignment:\n",
    "\n",
    "https://riptutorial.com/python/example/14981/destructuring-assignment\n",
    "\n",
    "__USEFUL__: destructuring-assignment is a bit of an odd one becuase I use it alot but really only in conjunction with certain methods like as you'll see enumerate and also (as you'll see later) when iterating through dictionarys and there keys. Other wise It doesn't come up alot so as a concept on it's own it's not super useful. My advice is for now just learn it with respect to enumerate.\n",
    "\n",
    "destructuring-assignment allows us to do stuff like:"
   ]
  },
  {
   "cell_type": "code",
   "execution_count": 21,
   "metadata": {},
   "outputs": [
    {
     "name": "stdout",
     "output_type": "stream",
     "text": [
      "1\n",
      "2\n",
      "3\n",
      "4\n",
      "5\n",
      "6\n",
      "7\n",
      "8\n"
     ]
    }
   ],
   "source": [
    "a, b = (1, 2)\n",
    "print(a)\n",
    "print(b)\n",
    "\n",
    "c, d = [3, 4]\n",
    "print(c)\n",
    "print(d)\n",
    "\n",
    "(e, f), (g, h) = ((5, 6), (7, 8))\n",
    "print(e)\n",
    "print(f)\n",
    "print(g)\n",
    "print(h)\n"
   ]
  },
  {
   "cell_type": "markdown",
   "metadata": {},
   "source": [
    "So instead of setting a variable to be the whole array you instead set a sequence of varaibles to be an individual elements of an array. This is useful becuase the enumerator function returns a tuple which we can descructure and assign within the for loop statement itself: "
   ]
  },
  {
   "cell_type": "code",
   "execution_count": 25,
   "metadata": {},
   "outputs": [
    {
     "name": "stdout",
     "output_type": "stream",
     "text": [
      "assigned via destructuring-assignment:\n",
      "The index      : 0\n",
      "The list value : 0.11982709573754591\n",
      "-----------------------\n",
      "assigned via destructuring-assignment:\n",
      "The index      : 1\n",
      "The list value : 0.463796649926262\n",
      "-----------------------\n",
      "assigned via destructuring-assignment:\n",
      "The index      : 2\n",
      "The list value : 0.6101060442391746\n",
      "-----------------------\n"
     ]
    }
   ],
   "source": [
    "nums = [random.random() for _ in range(3)]\n",
    "for i, num in enumerate(nums): # <- i, num = tuple returned from enumerate via destructuring-assignment\n",
    "    print('assigned via destructuring-assignment:')\n",
    "    print('The index      :', i)\n",
    "    print('The list value :', num)\n",
    "    print('-----------------------')"
   ]
  },
  {
   "cell_type": "markdown",
   "metadata": {},
   "source": [
    "This means that we can pull the index out as we iterate through the nums values and then conditionally square that number if the index is even and do nothing if it's odd. Here we also use `%` operator which gives the remander after dividing by so `3%2 = 1` and `6%2 = 0`. This means `index%2 == 1` in the for loop bellow is going to be 1 on every odd element and 0 on every even. "
   ]
  },
  {
   "cell_type": "code",
   "execution_count": 26,
   "metadata": {},
   "outputs": [
    {
     "data": {
      "text/plain": [
       "[1, 4, 3, 16]"
      ]
     },
     "execution_count": 26,
     "metadata": {},
     "output_type": "execute_result"
    }
   ],
   "source": [
    "nums = [i + 1 for i in range(4)]\n",
    "changed_nums = []\n",
    "\n",
    "for index, num in enumerate(nums):\n",
    "    if index%2 == 1:\n",
    "        changed_nums.append(num*num)\n",
    "    else:\n",
    "        changed_nums.append(num)\n",
    "\n",
    "changed_nums"
   ]
  },
  {
   "cell_type": "markdown",
   "metadata": {},
   "source": [
    "So how do we do the above with list comprehension. Well we can use enumerate to get the index within the list comprehension and then using a single line if statment (__USEFUL__) we can check its value:"
   ]
  },
  {
   "cell_type": "code",
   "execution_count": 27,
   "metadata": {},
   "outputs": [
    {
     "data": {
      "text/plain": [
       "[1, 4, 9, 16]"
      ]
     },
     "execution_count": 27,
     "metadata": {},
     "output_type": "execute_result"
    }
   ],
   "source": [
    "nums = [i+1 for i in range(4)]\n",
    "changed_nums = [num*num if index%2 == 1 else num for i, num in enumerate(nums)]\n",
    "changed_nums"
   ]
  },
  {
   "cell_type": "markdown",
   "metadata": {},
   "source": [
    "One line instead of 5. Not bad! However if your using large numbers of conditionals its going to get messy and in these cases it's probabably best to use a function:"
   ]
  },
  {
   "cell_type": "code",
   "execution_count": 28,
   "metadata": {},
   "outputs": [
    {
     "data": {
      "text/plain": [
       "[1, 4, 3, 16]"
      ]
     },
     "execution_count": 28,
     "metadata": {},
     "output_type": "execute_result"
    }
   ],
   "source": [
    "nums = [i+1 for i in range(4)]\n",
    "def f(i, x):\n",
    "    if i%2 == 1:\n",
    "        return x*x\n",
    "    else:\n",
    "        return x\n",
    "    \n",
    "[f(index, num) for index, num in enumerate(nums)]"
   ]
  },
  {
   "cell_type": "markdown",
   "metadata": {},
   "source": [
    "or if the five lines in the function defintion is too much you can do:"
   ]
  },
  {
   "cell_type": "code",
   "execution_count": 29,
   "metadata": {},
   "outputs": [
    {
     "data": {
      "text/plain": [
       "[1, 4, 3, 16]"
      ]
     },
     "execution_count": 29,
     "metadata": {},
     "output_type": "execute_result"
    }
   ],
   "source": [
    "nums = [i+1 for i in range(4)]\n",
    "def f(i, x):\n",
    "    return x*x if i%2 == 1 else x\n",
    "    \n",
    "[f(index, num) for index, num in enumerate(nums)]"
   ]
  },
  {
   "cell_type": "markdown",
   "metadata": {},
   "source": [
    "If the two lines in the function definition is too much you can use lambdas (__NOT-THAT-USEFUL__). lambdas are just single line functions. They take the form `f = lambda inputs: do stuff to inputs`. I've used these in python production code less than 5 times while working in software development."
   ]
  },
  {
   "cell_type": "code",
   "execution_count": 30,
   "metadata": {},
   "outputs": [
    {
     "data": {
      "text/plain": [
       "[1, 4, 3, 16]"
      ]
     },
     "execution_count": 30,
     "metadata": {},
     "output_type": "execute_result"
    }
   ],
   "source": [
    "nums = [i+1 for i in range(4)]\n",
    "f = lambda i,x: x*x if i%2==1 else x\n",
    "[f(index, num) for index, num in enumerate(nums)]"
   ]
  },
  {
   "cell_type": "markdown",
   "metadata": {},
   "source": [
    "final note on list-comprehension is that you can use if statments within it as a filter. This is super (__UESFUL__). For isntance:"
   ]
  },
  {
   "cell_type": "code",
   "execution_count": 34,
   "metadata": {},
   "outputs": [
    {
     "name": "stdout",
     "output_type": "stream",
     "text": [
      "[1, 2, 3, 4, 5]\n",
      "[2, 4, 6, 8, 10]\n",
      "[6, 7, 8, 9, 10]\n"
     ]
    }
   ],
   "source": [
    "a_list = [1,2,3,4,5,6,7,8,9,10]\n",
    "a_filterd_list_1 = [i for i in a_list if i<6]\n",
    "print(a_filterd_list_1)\n",
    "\n",
    "a_filterd_list_2 = [i for i in a_list if i%2 == 0]\n",
    "print(a_filterd_list_2)\n",
    "\n",
    "a_filterd_list_3 = [v for i, v in enumerate(a_list) if i>4]\n",
    "print(a_filterd_list_3)"
   ]
  },
  {
   "cell_type": "markdown",
   "metadata": {},
   "source": [
    "Theres also a thing called slice-notation: https://stackoverflow.com/questions/509211/understanding-slice-notation that I'm using more but not enought for me to consider it __USEFUL__. It's definetly more of a __JUST-GOOGLE__ at the moment but that may change becuase it's pretty powerful. My problem with it is that it's pretty unreadable and due to its syntax it's slightly tricky to commit to memory. I've seen it used a tun by other coders thought so it's worth knowing that `:` in a list acessor corresponds to slice-notation so that you know what to google. Anyway it allows you to do this:"
   ]
  },
  {
   "cell_type": "code",
   "execution_count": 35,
   "metadata": {},
   "outputs": [
    {
     "name": "stdout",
     "output_type": "stream",
     "text": [
      "[1, 2, 3, 4, 5]\n",
      "[6, 7, 8, 9, 10]\n",
      "[4, 5, 6, 7, 8]\n",
      "[4, 6, 8]\n",
      "[1, 3, 5, 7, 9]\n"
     ]
    }
   ],
   "source": [
    "a_list = [1,2,3,4,5,6,7,8,9,10]\n",
    "print(a_list[:5]) # get first 5 elements, I use occasionally\n",
    "print(a_list[5:]) # get last 5 elements, I use occasionally\n",
    "print(a_list[3:8]) # get elements 4 through 8, I never really use\n",
    "print(a_list[3:8:2]) # get elements 4 throught 8 skipping every second element, I've never used!\n",
    "print(a_list[::2]) # get every second element, Didn't know you could even do this until I just tried it!"
   ]
  },
  {
   "cell_type": "markdown",
   "metadata": {},
   "source": [
    "# PROBLEM 3:\n",
    "\n",
    "The following is some data for a exchange. `bid_ask_exch_1[i][0]` is the bid at time i and `bid_ask_exch_1[i][1]` is the bid at time i.\n",
    "\n",
    "```py\n",
    "bid_ask_exch_1 = [[7000, 7005], [7000, 7005], [7006, 7015]]\n",
    "```\n",
    "\n",
    "Add the index for each ask_bid pair into the data like so:\n",
    "\n",
    "`bid_ask_exch_1 = [[0, 7000, 7005], [1, 7000, 7005], [2, 7006, 7015]]`\n"
   ]
  },
  {
   "cell_type": "code",
   "execution_count": null,
   "metadata": {},
   "outputs": [],
   "source": []
  },
  {
   "cell_type": "markdown",
   "metadata": {},
   "source": [
    "### zip\n",
    "\n",
    "The final concept that I use a lot with lists is `zip`. I'd catigorize `zip` as __USEFUL__ thought i didn't use all that much until recently, I think in certain disciplines such as data science it comes up alot but in stuff like web development applications i've rairely seen it.\n",
    "\n",
    "What zip does is take two iterators of the same length and returns those values in each list in tuple pairs matched by index. For example:"
   ]
  },
  {
   "cell_type": "code",
   "execution_count": 36,
   "metadata": {},
   "outputs": [
    {
     "data": {
      "text/plain": [
       "[(1, -1), (2, -2), (3, -3), (4, -4), (5, -5), (6, -6)]"
      ]
     },
     "execution_count": 36,
     "metadata": {},
     "output_type": "execute_result"
    }
   ],
   "source": [
    "list_1 = [1,2,3,4,5,6]\n",
    "list_2 = [-1,-2,-3,-4,-5,-6]\n",
    "\n",
    "zipped_list = list(zip(list_1, list_2))\n",
    "\n",
    "zipped_list"
   ]
  },
  {
   "cell_type": "markdown",
   "metadata": {},
   "source": [
    "_note_ : Becuase zip returns an iterator we have to turn it into a list using `list`. Remeber however that we can also do `[item for item in zip(list_1, list_2)]` and get the exact same result.\n",
    "\n",
    "Note the same can be done using for loops:"
   ]
  },
  {
   "cell_type": "code",
   "execution_count": 37,
   "metadata": {},
   "outputs": [
    {
     "data": {
      "text/plain": [
       "[(1, -1), (2, -2), (3, -3), (4, -4), (5, -5), (6, -6)]"
      ]
     },
     "execution_count": 37,
     "metadata": {},
     "output_type": "execute_result"
    }
   ],
   "source": [
    "list_1 = [1,2,3,4,5,6]\n",
    "list_2 = [-1,-2,-3,-4,-5,-6]\n",
    "zipped_list = []\n",
    "\n",
    "for i in range(len(list_1)):\n",
    "    zipped_list.append((list_1[i], list_2[i]))\n",
    "    \n",
    "zipped_list"
   ]
  },
  {
   "cell_type": "markdown",
   "metadata": {},
   "source": [
    "This function is very useful if we have two sets of data that line up. Try the next two problems using both for loops and then also zip. \n",
    "\n",
    "# PROBLEM 4:\n",
    "\n",
    "We have two lists, one contains the price of a number of goods and the other the number of that good sold.\n",
    "\n",
    "```py\n",
    "num_sold = [1, 6, 4, 9, 3]\n",
    "prices = ['$4.50', '$2.00', '$1.50', '$6.25', '$8.00']\n",
    "```\n",
    "\n",
    "so there where 6 of good number 2 (array index 1) sold at '$2.00'.\n",
    "\n",
    "Write a program that calculates the total amount made. So the sum of the quantities times there respective prices. You will likely need to use replace, float and sum as well.\n",
    "\n",
    "the result should be: $102.75\n"
   ]
  },
  {
   "cell_type": "code",
   "execution_count": null,
   "metadata": {},
   "outputs": [],
   "source": []
  },
  {
   "cell_type": "markdown",
   "metadata": {},
   "source": [
    "# PROBLEM 5:\n",
    "\n",
    "We have two exchanges with the same stucture as in problem 3.\n",
    "\n",
    "```py\n",
    "bid_ask_exc_1 = [[7000, 7005], [7000, 7005], [7006, 7015]]\n",
    "bid_ask_exc_2 = [[6990, 7015], [7004, 7010], [7000, 7020]]\n",
    "```\n",
    "\n",
    "reformat the above exhcnages into ask bid vectors with indecies as there first element. The resulting row should be of the form:\n",
    "\n",
    "```py\n",
    "[index, bid_exc_1, bid_exc_2]\n",
    "[index, ask_exc_1, ask_exc_2]\n",
    "```\n",
    "\n",
    "the result should be:\n",
    "\n",
    "```py\n",
    "bids = [[0, 7000, 6990], [1, 7000, 7004], [2, 7006, 7000]]\n",
    "asks = [[0, 7005, 7015], [1, 7005, 7010], [2, 7015, 7020]]\n",
    "```\n"
   ]
  },
  {
   "cell_type": "code",
   "execution_count": null,
   "metadata": {},
   "outputs": [],
   "source": []
  },
  {
   "cell_type": "markdown",
   "metadata": {},
   "source": [
    "### Conclusion\n",
    "\n",
    "The important thing to get good at is understanding how to manipulate the list structure. This is so important primarily because you can't control the form the data comes in and you can't control the form that external libraries demand it be in: For example the data we get from the exchanges is in 20 or so seperate lists of ask and bid prices. If we want to map these lists into a single pandas dataframe with columns as ask and bid prices for sets of exchanges then we need to be able to do the above types of mappings on lists. \n",
    "\n",
    "Similarly mapping data from one format to another is exactly what i'm doing with the carbon data right now. I get data in json and I have no control over how the data arrives, and then I have to parse out the bits of data into list of lists where the sub-lists correspond to rows in the capital finder postgres database. \n",
    "\n",
    "Next we'll do dictionarys which are alot like lists except that you use strings to access the values within them instead of the integer index. Just like lists can contain sub-lists so too can dictionarys contain sub-dictionaries. So: "
   ]
  },
  {
   "cell_type": "code",
   "execution_count": 38,
   "metadata": {},
   "outputs": [
    {
     "name": "stdout",
     "output_type": "stream",
     "text": [
      "3\n"
     ]
    }
   ],
   "source": [
    "example_dict = {\n",
    "    'key': {\n",
    "        'sub_key': 1\n",
    "    },\n",
    "    'another_key': 2,\n",
    "    'and_another_one': {\n",
    "        'with_another_sub_key': 3\n",
    "    }\n",
    "}\n",
    "\n",
    "print(example_dict['and_another_one']['with_another_sub_key'])"
   ]
  },
  {
   "cell_type": "code",
   "execution_count": null,
   "metadata": {},
   "outputs": [],
   "source": []
  }
 ],
 "metadata": {
  "kernelspec": {
   "display_name": "Python 3",
   "language": "python",
   "name": "python3"
  },
  "language_info": {
   "codemirror_mode": {
    "name": "ipython",
    "version": 3
   },
   "file_extension": ".py",
   "mimetype": "text/x-python",
   "name": "python",
   "nbconvert_exporter": "python",
   "pygments_lexer": "ipython3",
   "version": "3.6.9"
  }
 },
 "nbformat": 4,
 "nbformat_minor": 4
}
