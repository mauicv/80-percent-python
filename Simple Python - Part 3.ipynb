{
 "cells": [
  {
   "cell_type": "markdown",
   "metadata": {},
   "source": [
    "## Simple Python - Part 3\n",
    "\n",
    "\n",
    "\n",
    "### Functions\n",
    "\n",
    "___\n",
    "\n",
    "\n",
    "This lesson is about functions. So a function takes in **input** does something to it and then returns the new modified version of the **input** as **output**. There main purpose in programming is twofold. I'll start by showing how they're defined and explain variable scope. Then i'll talk a bit about why there useful using examples."
   ]
  },
  {
   "cell_type": "markdown",
   "metadata": {},
   "source": [
    "So we define a function like so:"
   ]
  },
  {
   "cell_type": "code",
   "execution_count": 9,
   "metadata": {},
   "outputs": [],
   "source": [
    "def a_function(an_input, another_input, some_more_input):\n",
    "    the_output = an_input + another_input * some_more_input\n",
    "    return the_output"
   ]
  },
  {
   "cell_type": "markdown",
   "metadata": {},
   "source": [
    "To run the function we do:"
   ]
  },
  {
   "cell_type": "code",
   "execution_count": 11,
   "metadata": {},
   "outputs": [
    {
     "data": {
      "text/plain": [
       "7"
      ]
     },
     "execution_count": 11,
     "metadata": {},
     "output_type": "execute_result"
    }
   ],
   "source": [
    "a_function(1,2,3)"
   ]
  },
  {
   "cell_type": "markdown",
   "metadata": {},
   "source": [
    "### Variable Scope:\n",
    "\n",
    "___\n",
    "\n",
    "\n",
    "One small detail to understand is variable scope. So a variable declared within a function is only accessable within that function. Whereas variables defined outside of functions are accessable within functions. So this means:\n"
   ]
  },
  {
   "cell_type": "code",
   "execution_count": 12,
   "metadata": {},
   "outputs": [],
   "source": [
    "defined_outside_f = 'A'\n",
    "\n",
    "def f(some_input_passed_into_f):\n",
    "    defined_within_f = 'B'\n",
    "    print(some_input_passed_into_f)\n",
    "    print(defined_within_f)\n",
    "    print(defined_outside_f)"
   ]
  },
  {
   "cell_type": "markdown",
   "metadata": {},
   "source": [
    "then what is: `f('C')`:"
   ]
  },
  {
   "cell_type": "code",
   "execution_count": 13,
   "metadata": {},
   "outputs": [
    {
     "name": "stdout",
     "output_type": "stream",
     "text": [
      "C\n",
      "B\n",
      "A\n"
     ]
    }
   ],
   "source": [
    "f('C')"
   ]
  },
  {
   "cell_type": "markdown",
   "metadata": {},
   "source": [
    "Ok so within `f` the code has access to this input passed into `f` namely `some_input_passed_into_f`, the variable defined within `f` : `defined_within_f` and the variable defined ouside of `f` called `defined_outside_f`. \n",
    "\n",
    "But does code outside of `f` have access to `defined_within_f`?"
   ]
  },
  {
   "cell_type": "code",
   "execution_count": 7,
   "metadata": {},
   "outputs": [
    {
     "name": "stdout",
     "output_type": "stream",
     "text": [
      "C\n",
      "B\n",
      "A\n",
      "A\n"
     ]
    },
    {
     "ename": "NameError",
     "evalue": "name 'defined_within_f' is not defined",
     "output_type": "error",
     "traceback": [
      "\u001b[0;31m---------------------------------------------------------------------------\u001b[0m",
      "\u001b[0;31mNameError\u001b[0m                                 Traceback (most recent call last)",
      "\u001b[0;32m<ipython-input-7-bf31d2891ed0>\u001b[0m in \u001b[0;36m<module>\u001b[0;34m\u001b[0m\n\u001b[1;32m      2\u001b[0m \u001b[0;34m\u001b[0m\u001b[0m\n\u001b[1;32m      3\u001b[0m \u001b[0mprint\u001b[0m\u001b[0;34m(\u001b[0m\u001b[0mdefined_outside_f\u001b[0m\u001b[0;34m)\u001b[0m\u001b[0;34m\u001b[0m\u001b[0;34m\u001b[0m\u001b[0m\n\u001b[0;32m----> 4\u001b[0;31m \u001b[0mprint\u001b[0m\u001b[0;34m(\u001b[0m\u001b[0mdefined_within_f\u001b[0m\u001b[0;34m)\u001b[0m\u001b[0;34m\u001b[0m\u001b[0;34m\u001b[0m\u001b[0m\n\u001b[0m\u001b[1;32m      5\u001b[0m \u001b[0mprint\u001b[0m\u001b[0;34m(\u001b[0m\u001b[0msome_input_passed_into_f\u001b[0m\u001b[0;34m)\u001b[0m\u001b[0;34m\u001b[0m\u001b[0;34m\u001b[0m\u001b[0m\n",
      "\u001b[0;31mNameError\u001b[0m: name 'defined_within_f' is not defined"
     ]
    }
   ],
   "source": [
    "f('C')\n",
    "\n",
    "print(defined_outside_f)\n",
    "print(defined_within_f)"
   ]
  },
  {
   "cell_type": "markdown",
   "metadata": {},
   "source": [
    "So the `CBA` printed above comes from the print statments in `f`. The `A` comes from the `defined_outside_f` and the error comes from the fact that `defined_within_f` isn't defined at the scope (ouside the function) at which it's refered too.\n",
    "\n",
    "This doesn't mean that we can't define it in this scope. If we do this, Python will see it as a seperate varaible to the one within the function:"
   ]
  },
  {
   "cell_type": "code",
   "execution_count": 14,
   "metadata": {},
   "outputs": [
    {
     "name": "stdout",
     "output_type": "stream",
     "text": [
      "C\n",
      "B\n",
      "A\n",
      "A\n",
      "D\n"
     ]
    }
   ],
   "source": [
    "defined_within_f = 'D'\n",
    "\n",
    "f('C')\n",
    "\n",
    "print(defined_outside_f)\n",
    "print(defined_within_f)"
   ]
  },
  {
   "cell_type": "markdown",
   "metadata": {},
   "source": [
    "So here `defined_within_f` is a varaible that takes the value `'B'` inside `f` and the value `'D'` outside of `f`. This behavour makes sense because it prevents you accedentally changing variables within functions. So a function becomes a kind of isolated environement that does a single thing seperatly from the code.\n",
    "\n",
    "### Summary\n",
    "\n",
    "Ok, and that's kind of it... Theres some other stuff i'll talk about later but for now just understand that functions take in stuff, change it and then give you that changed stuff back out again. Also the set of varaibles you define within a function is cordened of from the code outside of the function."
   ]
  },
  {
   "cell_type": "markdown",
   "metadata": {},
   "source": [
    "### Uses:\n",
    "\n",
    "___\n",
    "\n",
    "\n",
    "Functions are useful for two reasons: \n",
    "\n",
    "1. Code can get really complicated and functions allow you to break code up into isolated units. These isolated units should be defined in such a way as to only do one thing. This is know as seperation of concerns and allows you to more clearly visualize the operations a program is performing.\n",
    "2. It allows you to easily repeat code that's used in multiple places within the code base your working on. In this way you can think of a function as a tool that you can slot into your code wherever it's needed. So if you find yourself writing the same code multiple times that's a good indicator that it's time to use a function.\n",
    "\n",
    "### Examples:\n",
    "\n",
    "___\n",
    "\n",
    "\n",
    "Suppose I want to know the length of a list. Perhaps this list contains items a shop has sold for instance. I want to know the total number of sales. I can write the following:"
   ]
  },
  {
   "cell_type": "code",
   "execution_count": 18,
   "metadata": {},
   "outputs": [
    {
     "name": "stdout",
     "output_type": "stream",
     "text": [
      "6\n"
     ]
    }
   ],
   "source": [
    "a_list = ['chair','sofa','sink','chair','chair','sofa']\n",
    "count = 0\n",
    "for value in a_list:\n",
    "    count = count + 1\n",
    "\n",
    "print(count)"
   ]
  },
  {
   "cell_type": "markdown",
   "metadata": {},
   "source": [
    "Now suppose for some reason i'm likly to have to compute the length of many lists all of varing length. For instance suppose I own a chain of shops and I want to know how many items each has sold. The list of lists is:\n"
   ]
  },
  {
   "cell_type": "code",
   "execution_count": 20,
   "metadata": {},
   "outputs": [],
   "source": [
    "shop_1 = ['chair','sofa','sink','chair','chair','sofa'] \n",
    "shop_2 = ['chair','chair','sofa']\n",
    "shop_3 = ['chair','sofa','sink','chair','sofa', 'chair','sofa']"
   ]
  },
  {
   "cell_type": "markdown",
   "metadata": {},
   "source": [
    "So shop 1 has sold 6 items, shop 2, 3 and shop 3 has sold 7. To calculate these values we can do:"
   ]
  },
  {
   "cell_type": "code",
   "execution_count": 22,
   "metadata": {},
   "outputs": [
    {
     "name": "stdout",
     "output_type": "stream",
     "text": [
      "shop_1, items sold: 6\n",
      "shop_2, items sold: 3\n",
      "shop_3, items sold: 7\n"
     ]
    }
   ],
   "source": [
    "count = 0\n",
    "for item in shop_1:\n",
    "    count = count + 1\n",
    "\n",
    "print('shop_1, items sold:', count)\n",
    "\n",
    "count = 0\n",
    "for item in shop_2:\n",
    "    count = count + 1\n",
    "\n",
    "print('shop_2, items sold:', count)\n",
    "\n",
    "count = 0\n",
    "for item in shop_3:\n",
    "    count = count + 1\n",
    "\n",
    "print('shop_3, items sold:', count)"
   ]
  },
  {
   "cell_type": "markdown",
   "metadata": {},
   "source": [
    "This works but i'm repeating myself alot. So lets use a function instead."
   ]
  },
  {
   "cell_type": "code",
   "execution_count": 23,
   "metadata": {},
   "outputs": [],
   "source": [
    "def count_items_sold(items):\n",
    "    count = 0\n",
    "    for item in items:\n",
    "        count = count + 1\n",
    "    return count"
   ]
  },
  {
   "cell_type": "markdown",
   "metadata": {},
   "source": [
    "Now we can do the following instead:"
   ]
  },
  {
   "cell_type": "code",
   "execution_count": 24,
   "metadata": {},
   "outputs": [
    {
     "name": "stdout",
     "output_type": "stream",
     "text": [
      "shop_1, items sold: 6\n",
      "shop_2, items sold: 3\n",
      "shop_3, items sold: 7\n"
     ]
    }
   ],
   "source": [
    "print('shop_1, items sold:', count_items_sold(shop_1))\n",
    "print('shop_2, items sold:', count_items_sold(shop_2))\n",
    "print('shop_3, items sold:', count_items_sold(shop_3))"
   ]
  },
  {
   "cell_type": "markdown",
   "metadata": {},
   "source": [
    "The above is much more consise and saves you having to rewrite code. Whats even better is that now you've defined this function you can use it anywhere you need to count the number of items in a list. This is such an regular use case that python has the built in `len` function that you've already seen and where probabaly wondering why I wasn't using that already. "
   ]
  },
  {
   "cell_type": "code",
   "execution_count": 25,
   "metadata": {},
   "outputs": [
    {
     "name": "stdout",
     "output_type": "stream",
     "text": [
      "shop_1, items sold: 6\n",
      "shop_2, items sold: 3\n",
      "shop_3, items sold: 7\n"
     ]
    }
   ],
   "source": [
    "print('shop_1, items sold:', len(shop_1))\n",
    "print('shop_2, items sold:', len(shop_2))\n",
    "print('shop_3, items sold:', len(shop_3))"
   ]
  },
  {
   "cell_type": "markdown",
   "metadata": {},
   "source": [
    "This serves to illustrate however the benifits of modularization. Code that is written often is best subsumed into a function. Doing so is so useful that python has numerous built in functions that do various things that you're likely to need to do.\n",
    "\n",
    "So functions remove code reuse. They also help to make code readable. Suppose your implementing a long operation on some data. Suppose we have records of items sold for 3 shops, the prices at which they where sold. Suppose each sale has a tax of %20. We want to know what we paid in tax over all the sales."
   ]
  },
  {
   "cell_type": "code",
   "execution_count": 27,
   "metadata": {},
   "outputs": [],
   "source": [
    "shop_1 = ['chair','sofa','sink','chair','chair','sofa'] \n",
    "shop_2 = ['chair','chair','sofa']\n",
    "shop_3 = ['chair','sofa','sink','chair','sofa', 'chair','sofa']\n",
    "\n",
    "price_of_chair=100\n",
    "price_of_sofa=400\n",
    "price_of_sink=300"
   ]
  },
  {
   "cell_type": "markdown",
   "metadata": {},
   "source": [
    "The verbose version:"
   ]
  },
  {
   "cell_type": "code",
   "execution_count": 48,
   "metadata": {},
   "outputs": [
    {
     "name": "stdout",
     "output_type": "stream",
     "text": [
      "tax paid: 760.0\n"
     ]
    }
   ],
   "source": [
    "sum_of_tax = 0\n",
    "for sold_item in shop_1:\n",
    "    if sold_item == 'chair':\n",
    "        sum_of_tax = sum_of_tax + price_of_chair*0.2\n",
    "    if sold_item == 'sofa':\n",
    "        sum_of_tax = sum_of_tax + price_of_sofa*0.2\n",
    "    if sold_item == 'sink':\n",
    "        sum_of_tax = sum_of_tax + price_of_sink*0.2\n",
    "        \n",
    "for sold_item in shop_2:\n",
    "    if sold_item == 'chair':\n",
    "        sum_of_tax = sum_of_tax + price_of_chair*0.2\n",
    "    if sold_item == 'sofa':\n",
    "        sum_of_tax = sum_of_tax + price_of_sofa*0.2\n",
    "    if sold_item == 'sink':\n",
    "        sum_of_tax = sum_of_tax + price_of_sink*0.2\n",
    "        \n",
    "for sold_item in shop_3:\n",
    "    if sold_item == 'chair':\n",
    "        sum_of_tax = sum_of_tax + price_of_chair*0.2\n",
    "    if sold_item == 'sofa':\n",
    "        sum_of_tax = sum_of_tax + price_of_sofa*0.2\n",
    "    if sold_item == 'sink':\n",
    "        sum_of_tax = sum_of_tax + price_of_sink*0.2\n",
    "\n",
    "print('tax paid:', sum_of_tax)"
   ]
  },
  {
   "cell_type": "markdown",
   "metadata": {},
   "source": [
    "The non-verbose version:"
   ]
  },
  {
   "cell_type": "code",
   "execution_count": 51,
   "metadata": {},
   "outputs": [
    {
     "name": "stdout",
     "output_type": "stream",
     "text": [
      "tax paid: 760.0\n"
     ]
    }
   ],
   "source": [
    "def calculate_sale(item):\n",
    "    if item == 'chair':\n",
    "        return price_of_chair\n",
    "    if item == 'sofa':\n",
    "        return price_of_sofa\n",
    "    if item == 'sink':\n",
    "        return price_of_sink\n",
    "\n",
    "def apply_tax(value):\n",
    "    return 0.2*value\n",
    "    \n",
    "def calculate_sales_in_shop(items):\n",
    "    sum_of_taxed_sales = 0\n",
    "    for item in items:\n",
    "        sale_value = calculate_sale(item)\n",
    "        taxed_sale_value = apply_tax(sale_value)\n",
    "        sum_of_taxed_sales = sum_of_taxed_sales + taxed_sale_value\n",
    "    return sum_of_taxed_sales\n",
    "\n",
    "sum_of_taxed_sales = 0\n",
    "for shop in [shop_1, shop_2, shop_3]:\n",
    "    shop_sales_taxs = calculate_sales_in_shop(shop)\n",
    "    sum_of_taxed_sales = sum_of_taxed_sales + shop_sales_taxs\n",
    "    \n",
    "print('tax paid:', sum_of_taxed_sales)"
   ]
  },
  {
   "cell_type": "markdown",
   "metadata": {},
   "source": [
    "So this example is a little convoluted and in particular the `apply_tax` function probabaly isn't needed. However the point is that in breaking up the code like this you can make it more readable. In particular the following code reads quite clearly. You can tell what each part of the code does and how it processes the data.\n",
    "\n",
    "```py\n",
    "sale_value = calculate_sale(item)\n",
    "taxed_sale_value = apply_tax(sale_value)\n",
    "sum_of_taxed_sales = sum_of_taxed_sales + taxed_sale_value\n",
    "```\n",
    "\n",
    "An added benifit here is if the tax rate goes up, you only have to change it in one place, namely in `apply_taxes`.\n"
   ]
  },
  {
   "cell_type": "code",
   "execution_count": 52,
   "metadata": {},
   "outputs": [
    {
     "name": "stdout",
     "output_type": "stream",
     "text": [
      "tax paid: 1140.0\n"
     ]
    }
   ],
   "source": [
    "def apply_tax(value):\n",
    "    return 0.3*value\n",
    "\n",
    "sum_of_taxed_sales = 0\n",
    "for shop in [shop_1, shop_2, shop_3]:\n",
    "    shop_sales_taxs = calculate_sales_in_shop(shop)\n",
    "    sum_of_taxed_sales = sum_of_taxed_sales + shop_sales_taxs\n",
    "    \n",
    "print('tax paid:', sum_of_taxed_sales)"
   ]
  },
  {
   "cell_type": "markdown",
   "metadata": {},
   "source": [
    "### Warning:\n",
    "\n",
    "___\n",
    "\n",
    "This approach can be a mixed bag and it's easy to go over the top and end up with really complex code. You can easily start defining utterly point less functions. For example the `apply_tax` function above probabaly makes the code more complex rather than less given that it only performs one operation.\n",
    "\n",
    "```py\n",
    "def apply_tax(value):\n",
    "    return 0.2*value\n",
    "```\n",
    "\n",
    "By adding a function into the code base you end up making anyone who's reading the code jump to the location in which the function is defined. This is fine to a degree but if your over using functions it can become very confusing. So there's some kind of balance to be struck here between explict, what you see is what your get code, and more abstract, modularized code... I personally try to aim for what feels simplest to think about."
   ]
  },
  {
   "cell_type": "markdown",
   "metadata": {},
   "source": [
    "### Questions:\n",
    "\n",
    "___\n",
    "\n",
    "1. Write a function that takes two lists and multiples the element wise. So if list one is `[1,2,3]` and list two is `[5,6,7]` the function should take both and return `1*5+2*6+3*7 = 38`.\n",
    "2. Define a function that takes a list and sums each value multiplying it by it's index. If the list is `[1,2,3,2,1]` the result should be `0*1 + 1*2 + 2*3 + 3*2 + 4*1 = 18`. Extra marks if you can figure oout how to do this using problem one.\n",
    "3. Define a function that takes an integer `n` and returns a list of the first n fibonacci numbers. [What are the fibonnacci numbers?](https://en.wikipedia.org/wiki/Fibonacci_number)"
   ]
  },
  {
   "cell_type": "code",
   "execution_count": null,
   "metadata": {},
   "outputs": [],
   "source": []
  }
 ],
 "metadata": {
  "kernelspec": {
   "display_name": "Python 3",
   "language": "python",
   "name": "python3"
  },
  "language_info": {
   "codemirror_mode": {
    "name": "ipython",
    "version": 3
   },
   "file_extension": ".py",
   "mimetype": "text/x-python",
   "name": "python",
   "nbconvert_exporter": "python",
   "pygments_lexer": "ipython3",
   "version": "3.6.9"
  }
 },
 "nbformat": 4,
 "nbformat_minor": 4
}
